{
  "nbformat": 4,
  "nbformat_minor": 0,
  "metadata": {
    "colab": {
      "provenance": [],
      "authorship_tag": "ABX9TyM8NFukdb+FzLlMmmY1aUae",
      "include_colab_link": true
    },
    "kernelspec": {
      "name": "python3",
      "display_name": "Python 3"
    },
    "language_info": {
      "name": "python"
    }
  },
  "cells": [
    {
      "cell_type": "markdown",
      "metadata": {
        "id": "view-in-github",
        "colab_type": "text"
      },
      "source": [
        "<a href=\"https://colab.research.google.com/github/ferraa1/AtividadesPython/blob/main/PythonExemplo01.ipynb\" target=\"_parent\"><img src=\"https://colab.research.google.com/assets/colab-badge.svg\" alt=\"Open In Colab\"/></a>"
      ]
    },
    {
      "cell_type": "code",
      "execution_count": null,
      "metadata": {
        "id": "IsaUtUjNOUnC"
      },
      "outputs": [],
      "source": [
        "#Funções\n",
        "def soma(x,y,z):\n",
        "  return x+y+z\n",
        "def inc(x):\n",
        "  return x+1\n",
        "def media(x,y,z):\n",
        "  return soma(x,y,z) / 3"
      ]
    },
    {
      "cell_type": "code",
      "source": [
        "#Main\n",
        "print(\"Soma =\",soma(2,3,5))\n",
        "resultado = (media(2,3,5))\n",
        "print(\"Media =\",resultado)"
      ],
      "metadata": {
        "id": "RPMokiqvO9MG"
      },
      "execution_count": null,
      "outputs": []
    }
  ]
}