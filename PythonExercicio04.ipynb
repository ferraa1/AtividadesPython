{
  "nbformat": 4,
  "nbformat_minor": 0,
  "metadata": {
    "colab": {
      "provenance": [],
      "authorship_tag": "ABX9TyPmWtwSHznG6tmVMX9A6+LJ",
      "include_colab_link": true
    },
    "kernelspec": {
      "name": "python3",
      "display_name": "Python 3"
    },
    "language_info": {
      "name": "python"
    }
  },
  "cells": [
    {
      "cell_type": "markdown",
      "metadata": {
        "id": "view-in-github",
        "colab_type": "text"
      },
      "source": [
        "<a href=\"https://colab.research.google.com/github/ferraa1/AtividadesPython/blob/main/PythonExercicio04.ipynb\" target=\"_parent\"><img src=\"https://colab.research.google.com/assets/colab-badge.svg\" alt=\"Open In Colab\"/></a>"
      ]
    },
    {
      "cell_type": "code",
      "execution_count": null,
      "metadata": {
        "id": "0wJrWf2LWfjc"
      },
      "outputs": [],
      "source": [
        "#Funções\n",
        "\n",
        "#1\n",
        "def inverte_lista(lista):\n",
        "  lista.reverse()\n",
        "  return lista\n",
        "\n",
        "#2\n",
        "def prod_lista(lista):\n",
        "  result = 1\n",
        "  for i in lista:\n",
        "    result *= i\n",
        "  return result\n",
        "\n",
        "#3\n",
        "def todos_imparesQ(lista):\n",
        "  return list(filter(lambda x: x % 2 == 0,lista)) == []\n",
        "\n",
        "#4\n",
        "def pertenceQ(w,n):\n",
        "  return list(filter(lambda x: x == n,w)) != []\n",
        "\n",
        "#5\n",
        "def retira_negativos(lista):\n",
        "  return list(filter(lambda x: x > 0,lista))"
      ]
    },
    {
      "cell_type": "code",
      "source": [
        "#Main\n",
        "\n",
        "#1\n",
        "print(inverte_lista([1,2,3]))\n",
        "\n",
        "#2\n",
        "print(prod_lista([2,4,6]))\n",
        "print(prod_lista([]))\n",
        "\n",
        "#3\n",
        "listaTeste = [1,3,5]\n",
        "print(todos_imparesQ(listaTeste))\n",
        "listaTeste = [1,3,5,6]\n",
        "print(todos_imparesQ(listaTeste))\n",
        "\n",
        "#4\n",
        "listaTeste = [1,2,3]\n",
        "print(pertenceQ(listaTeste,2))\n",
        "print(pertenceQ(listaTeste,4))\n",
        "\n",
        "#5\n",
        "print(retira_negativos([1,2,3,-4,5,-6]))"
      ],
      "metadata": {
        "id": "ygWirlTmYgHt",
        "outputId": "812cf509-1b08-464a-8a7b-11cea8712adf",
        "colab": {
          "base_uri": "https://localhost:8080/"
        }
      },
      "execution_count": null,
      "outputs": [
        {
          "output_type": "stream",
          "name": "stdout",
          "text": [
            "[3, 2, 1]\n",
            "48\n",
            "1\n",
            "True\n",
            "False\n",
            "True\n",
            "False\n",
            "[1, 2, 3, 5]\n"
          ]
        }
      ]
    }
  ]
}