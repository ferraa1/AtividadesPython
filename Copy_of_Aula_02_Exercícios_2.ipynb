{
  "cells": [
    {
      "cell_type": "markdown",
      "metadata": {
        "id": "view-in-github",
        "colab_type": "text"
      },
      "source": [
        "<a href=\"https://colab.research.google.com/github/ferraa1/AtividadesPython/blob/main/Copy_of_Aula_02_Exerc%C3%ADcios_2.ipynb\" target=\"_parent\"><img src=\"https://colab.research.google.com/assets/colab-badge.svg\" alt=\"Open In Colab\"/></a>"
      ]
    },
    {
      "cell_type": "code",
      "source": [
        "#Importação das bibliotecas pandas, numpy, glob e os:\n",
        "import pandas as pd\n",
        "import numpy as np\n",
        "import glob\n",
        "import os"
      ],
      "metadata": {
        "id": "6q0gZps-Tz9o"
      },
      "id": "6q0gZps-Tz9o",
      "execution_count": null,
      "outputs": []
    },
    {
      "cell_type": "code",
      "execution_count": null,
      "id": "1fad3637",
      "metadata": {
        "id": "1fad3637"
      },
      "outputs": [],
      "source": [
        "#1 - Existem duas lojas de hardware na cidade: Loja A e Loja B. O estoque da Loja A está no DataFrame estoqueA \n",
        "#e o estoque da Loja B está no DataFrame estoqueB. Eles decidiram se fundir em uma grande Super Store!\n",
        "#Combine os estoques da Loja A e da Loja B. Salve os resultados na variável estoqueAeB.\n",
        "estoqueA = pd.read_csv('estoqueA.csv')\n",
        "estoqueB = pd.read_csv('estoqueB.csv')\n",
        "estoqueAeB = pd.concat([estoqueA,estoqueB])"
      ]
    },
    {
      "cell_type": "code",
      "execution_count": null,
      "id": "71af3199",
      "metadata": {
        "id": "71af3199",
        "colab": {
          "base_uri": "https://localhost:8080/"
        },
        "outputId": "45b974bc-4d20-444e-df41-a181c272943c"
      },
      "outputs": [
        {
          "output_type": "stream",
          "name": "stdout",
          "text": [
            "            item  quantidade_estoque_A  quantidade_estoque_B\n",
            "0         hammer                  12.0                   NaN\n",
            "1    screwdriver                  15.0                   NaN\n",
            "2          nails                 200.0                   NaN\n",
            "3         screws                 350.0                   NaN\n",
            "4            saw                   6.0                   NaN\n",
            "5      duct tape                 150.0                   NaN\n",
            "6         wrench                  12.0                   NaN\n",
            "7       pvc pipe                  54.0                   NaN\n",
            "0         hammer                   NaN                   6.0\n",
            "1          nails                   NaN                 250.0\n",
            "2            saw                   NaN                   6.0\n",
            "3      duct tape                   NaN                 150.0\n",
            "4       pvc pipe                   NaN                  54.0\n",
            "5           rake                   NaN                  10.0\n",
            "6         shovel                   NaN                  15.0\n",
            "7  wooden dowels                   NaN                 192.0\n",
            "            item  quantidade_estoque_A  quantidade_estoque_B\n",
            "0         hammer                  12.0                   0.0\n",
            "1    screwdriver                  15.0                   0.0\n",
            "2          nails                 200.0                   0.0\n",
            "3         screws                 350.0                   0.0\n",
            "4            saw                   6.0                   0.0\n",
            "5      duct tape                 150.0                   0.0\n",
            "6         wrench                  12.0                   0.0\n",
            "7       pvc pipe                  54.0                   0.0\n",
            "0         hammer                   0.0                   6.0\n",
            "1          nails                   0.0                 250.0\n",
            "2            saw                   0.0                   6.0\n",
            "3      duct tape                   0.0                 150.0\n",
            "4       pvc pipe                   0.0                  54.0\n",
            "5           rake                   0.0                  10.0\n",
            "6         shovel                   0.0                  15.0\n",
            "7  wooden dowels                   0.0                 192.0\n"
          ]
        }
      ],
      "source": [
        "#Print a variável estoqueAeB e observe a quantidade de valores NaN\n",
        "#2 - Substitua os valores NaN por 0\n",
        "print(estoqueAeB)\n",
        "estoqueAeB.fillna(0,inplace=True)\n",
        "print(estoqueAeB)"
      ]
    },
    {
      "cell_type": "code",
      "execution_count": null,
      "id": "0151a250",
      "metadata": {
        "id": "0151a250",
        "colab": {
          "base_uri": "https://localhost:8080/"
        },
        "outputId": "7049b282-b875-4d5c-aebb-8e40c34d8029"
      },
      "outputs": [
        {
          "output_type": "stream",
          "name": "stdout",
          "text": [
            "            item  quantidade_estoque_A  quantidade_estoque_B\n",
            "2          nails                 200.0                   0.0\n",
            "3         screws                 350.0                   0.0\n",
            "5      duct tape                 150.0                   0.0\n",
            "1          nails                   0.0                 250.0\n",
            "3      duct tape                   0.0                 150.0\n",
            "7  wooden dowels                   0.0                 192.0\n"
          ]
        }
      ],
      "source": [
        "#3 - Selecione as linhas de estoqueAeB onde a quantidade em estoque de um item seja maior que 100.\n",
        "result = estoqueAeB[(estoqueAeB.quantidade_estoque_A > 100) | (estoqueAeB.quantidade_estoque_B > 100)]\n",
        "print(result)"
      ]
    },
    {
      "cell_type": "code",
      "execution_count": null,
      "id": "e6377b2f",
      "metadata": {
        "id": "e6377b2f",
        "colab": {
          "base_uri": "https://localhost:8080/"
        },
        "outputId": "fc38c7b3-981c-4d44-db31-00127ae99438"
      },
      "outputs": [
        {
          "output_type": "stream",
          "name": "stdout",
          "text": [
            "            item  quantidade_estoque_A  quantidade_estoque_B  estoque_total\n",
            "0         hammer                  12.0                   0.0           12.0\n",
            "1    screwdriver                  15.0                   0.0           15.0\n",
            "2          nails                 200.0                   0.0          200.0\n",
            "3         screws                 350.0                   0.0          350.0\n",
            "4            saw                   6.0                   0.0            6.0\n",
            "5      duct tape                 150.0                   0.0          150.0\n",
            "6         wrench                  12.0                   0.0           12.0\n",
            "7       pvc pipe                  54.0                   0.0           54.0\n",
            "0         hammer                   0.0                   6.0            6.0\n",
            "1          nails                   0.0                 250.0          250.0\n",
            "2            saw                   0.0                   6.0            6.0\n",
            "3      duct tape                   0.0                 150.0          150.0\n",
            "4       pvc pipe                   0.0                  54.0           54.0\n",
            "5           rake                   0.0                  10.0           10.0\n",
            "6         shovel                   0.0                  15.0           15.0\n",
            "7  wooden dowels                   0.0                 192.0          192.0\n"
          ]
        }
      ],
      "source": [
        "#4 - Adicione a coluna estoque_total com a soma da quantidade no estoqueA com a quantidade no estoqueB\n",
        "estoqueAeB['estoque_total'] = estoqueAeB['quantidade_estoque_A'] + estoqueAeB['quantidade_estoque_B']\n",
        "print(estoqueAeB)"
      ]
    },
    {
      "cell_type": "code",
      "execution_count": null,
      "id": "77a6a4d1",
      "metadata": {
        "id": "77a6a4d1",
        "colab": {
          "base_uri": "https://localhost:8080/",
          "height": 424
        },
        "outputId": "9b0cbcc4-e2ba-4e64-b1d8-eb936bc0ed18"
      },
      "outputs": [
        {
          "output_type": "execute_result",
          "data": {
            "text/plain": [
              "     Unnamed: 0          full_name gender_age Fractions Probability  \\\n",
              "0             0     Barrett Feragh        M14       76%         72%   \n",
              "1             1    Llewellyn Keech        M14       83%         87%   \n",
              "2             2  Delilah Sowthcote        F16       90%         79%   \n",
              "3             3       Terrell Geri        M15       80%         86%   \n",
              "4             4     Gram Hallewell        M14       67%         78%   \n",
              "..          ...                ...        ...       ...         ...   \n",
              "895          95      Massimo Babbs        M16       84%         83%   \n",
              "896          96     Garrek Manuely        M14       70%         85%   \n",
              "897          97   Winslow Lilliman        M15       81%         83%   \n",
              "898          98      Grantham Yate        M15       77%         87%   \n",
              "899          99    Dennie Chopping        M16       81%         83%   \n",
              "\n",
              "          grade  \n",
              "0     9th grade  \n",
              "1    12th grade  \n",
              "2    10th grade  \n",
              "3    11th grade  \n",
              "4    10th grade  \n",
              "..          ...  \n",
              "895  11th grade  \n",
              "896   9th grade  \n",
              "897  11th grade  \n",
              "898  10th grade  \n",
              "899   9th grade  \n",
              "\n",
              "[900 rows x 6 columns]"
            ],
            "text/html": [
              "\n",
              "  <div id=\"df-3cf37ca7-31de-44a1-b1a8-5b969713cffb\">\n",
              "    <div class=\"colab-df-container\">\n",
              "      <div>\n",
              "<style scoped>\n",
              "    .dataframe tbody tr th:only-of-type {\n",
              "        vertical-align: middle;\n",
              "    }\n",
              "\n",
              "    .dataframe tbody tr th {\n",
              "        vertical-align: top;\n",
              "    }\n",
              "\n",
              "    .dataframe thead th {\n",
              "        text-align: right;\n",
              "    }\n",
              "</style>\n",
              "<table border=\"1\" class=\"dataframe\">\n",
              "  <thead>\n",
              "    <tr style=\"text-align: right;\">\n",
              "      <th></th>\n",
              "      <th>Unnamed: 0</th>\n",
              "      <th>full_name</th>\n",
              "      <th>gender_age</th>\n",
              "      <th>Fractions</th>\n",
              "      <th>Probability</th>\n",
              "      <th>grade</th>\n",
              "    </tr>\n",
              "  </thead>\n",
              "  <tbody>\n",
              "    <tr>\n",
              "      <th>0</th>\n",
              "      <td>0</td>\n",
              "      <td>Barrett Feragh</td>\n",
              "      <td>M14</td>\n",
              "      <td>76%</td>\n",
              "      <td>72%</td>\n",
              "      <td>9th grade</td>\n",
              "    </tr>\n",
              "    <tr>\n",
              "      <th>1</th>\n",
              "      <td>1</td>\n",
              "      <td>Llewellyn Keech</td>\n",
              "      <td>M14</td>\n",
              "      <td>83%</td>\n",
              "      <td>87%</td>\n",
              "      <td>12th grade</td>\n",
              "    </tr>\n",
              "    <tr>\n",
              "      <th>2</th>\n",
              "      <td>2</td>\n",
              "      <td>Delilah Sowthcote</td>\n",
              "      <td>F16</td>\n",
              "      <td>90%</td>\n",
              "      <td>79%</td>\n",
              "      <td>10th grade</td>\n",
              "    </tr>\n",
              "    <tr>\n",
              "      <th>3</th>\n",
              "      <td>3</td>\n",
              "      <td>Terrell Geri</td>\n",
              "      <td>M15</td>\n",
              "      <td>80%</td>\n",
              "      <td>86%</td>\n",
              "      <td>11th grade</td>\n",
              "    </tr>\n",
              "    <tr>\n",
              "      <th>4</th>\n",
              "      <td>4</td>\n",
              "      <td>Gram Hallewell</td>\n",
              "      <td>M14</td>\n",
              "      <td>67%</td>\n",
              "      <td>78%</td>\n",
              "      <td>10th grade</td>\n",
              "    </tr>\n",
              "    <tr>\n",
              "      <th>...</th>\n",
              "      <td>...</td>\n",
              "      <td>...</td>\n",
              "      <td>...</td>\n",
              "      <td>...</td>\n",
              "      <td>...</td>\n",
              "      <td>...</td>\n",
              "    </tr>\n",
              "    <tr>\n",
              "      <th>895</th>\n",
              "      <td>95</td>\n",
              "      <td>Massimo Babbs</td>\n",
              "      <td>M16</td>\n",
              "      <td>84%</td>\n",
              "      <td>83%</td>\n",
              "      <td>11th grade</td>\n",
              "    </tr>\n",
              "    <tr>\n",
              "      <th>896</th>\n",
              "      <td>96</td>\n",
              "      <td>Garrek Manuely</td>\n",
              "      <td>M14</td>\n",
              "      <td>70%</td>\n",
              "      <td>85%</td>\n",
              "      <td>9th grade</td>\n",
              "    </tr>\n",
              "    <tr>\n",
              "      <th>897</th>\n",
              "      <td>97</td>\n",
              "      <td>Winslow Lilliman</td>\n",
              "      <td>M15</td>\n",
              "      <td>81%</td>\n",
              "      <td>83%</td>\n",
              "      <td>11th grade</td>\n",
              "    </tr>\n",
              "    <tr>\n",
              "      <th>898</th>\n",
              "      <td>98</td>\n",
              "      <td>Grantham Yate</td>\n",
              "      <td>M15</td>\n",
              "      <td>77%</td>\n",
              "      <td>87%</td>\n",
              "      <td>10th grade</td>\n",
              "    </tr>\n",
              "    <tr>\n",
              "      <th>899</th>\n",
              "      <td>99</td>\n",
              "      <td>Dennie Chopping</td>\n",
              "      <td>M16</td>\n",
              "      <td>81%</td>\n",
              "      <td>83%</td>\n",
              "      <td>9th grade</td>\n",
              "    </tr>\n",
              "  </tbody>\n",
              "</table>\n",
              "<p>900 rows × 6 columns</p>\n",
              "</div>\n",
              "      <button class=\"colab-df-convert\" onclick=\"convertToInteractive('df-3cf37ca7-31de-44a1-b1a8-5b969713cffb')\"\n",
              "              title=\"Convert this dataframe to an interactive table.\"\n",
              "              style=\"display:none;\">\n",
              "        \n",
              "  <svg xmlns=\"http://www.w3.org/2000/svg\" height=\"24px\"viewBox=\"0 0 24 24\"\n",
              "       width=\"24px\">\n",
              "    <path d=\"M0 0h24v24H0V0z\" fill=\"none\"/>\n",
              "    <path d=\"M18.56 5.44l.94 2.06.94-2.06 2.06-.94-2.06-.94-.94-2.06-.94 2.06-2.06.94zm-11 1L8.5 8.5l.94-2.06 2.06-.94-2.06-.94L8.5 2.5l-.94 2.06-2.06.94zm10 10l.94 2.06.94-2.06 2.06-.94-2.06-.94-.94-2.06-.94 2.06-2.06.94z\"/><path d=\"M17.41 7.96l-1.37-1.37c-.4-.4-.92-.59-1.43-.59-.52 0-1.04.2-1.43.59L10.3 9.45l-7.72 7.72c-.78.78-.78 2.05 0 2.83L4 21.41c.39.39.9.59 1.41.59.51 0 1.02-.2 1.41-.59l7.78-7.78 2.81-2.81c.8-.78.8-2.07 0-2.86zM5.41 20L4 18.59l7.72-7.72 1.47 1.35L5.41 20z\"/>\n",
              "  </svg>\n",
              "      </button>\n",
              "      \n",
              "  <style>\n",
              "    .colab-df-container {\n",
              "      display:flex;\n",
              "      flex-wrap:wrap;\n",
              "      gap: 12px;\n",
              "    }\n",
              "\n",
              "    .colab-df-convert {\n",
              "      background-color: #E8F0FE;\n",
              "      border: none;\n",
              "      border-radius: 50%;\n",
              "      cursor: pointer;\n",
              "      display: none;\n",
              "      fill: #1967D2;\n",
              "      height: 32px;\n",
              "      padding: 0 0 0 0;\n",
              "      width: 32px;\n",
              "    }\n",
              "\n",
              "    .colab-df-convert:hover {\n",
              "      background-color: #E2EBFA;\n",
              "      box-shadow: 0px 1px 2px rgba(60, 64, 67, 0.3), 0px 1px 3px 1px rgba(60, 64, 67, 0.15);\n",
              "      fill: #174EA6;\n",
              "    }\n",
              "\n",
              "    [theme=dark] .colab-df-convert {\n",
              "      background-color: #3B4455;\n",
              "      fill: #D2E3FC;\n",
              "    }\n",
              "\n",
              "    [theme=dark] .colab-df-convert:hover {\n",
              "      background-color: #434B5C;\n",
              "      box-shadow: 0px 1px 3px 1px rgba(0, 0, 0, 0.15);\n",
              "      filter: drop-shadow(0px 1px 2px rgba(0, 0, 0, 0.3));\n",
              "      fill: #FFFFFF;\n",
              "    }\n",
              "  </style>\n",
              "\n",
              "      <script>\n",
              "        const buttonEl =\n",
              "          document.querySelector('#df-3cf37ca7-31de-44a1-b1a8-5b969713cffb button.colab-df-convert');\n",
              "        buttonEl.style.display =\n",
              "          google.colab.kernel.accessAllowed ? 'block' : 'none';\n",
              "\n",
              "        async function convertToInteractive(key) {\n",
              "          const element = document.querySelector('#df-3cf37ca7-31de-44a1-b1a8-5b969713cffb');\n",
              "          const dataTable =\n",
              "            await google.colab.kernel.invokeFunction('convertToInteractive',\n",
              "                                                     [key], {});\n",
              "          if (!dataTable) return;\n",
              "\n",
              "          const docLinkHtml = 'Like what you see? Visit the ' +\n",
              "            '<a target=\"_blank\" href=https://colab.research.google.com/notebooks/data_table.ipynb>data table notebook</a>'\n",
              "            + ' to learn more about interactive tables.';\n",
              "          element.innerHTML = '';\n",
              "          dataTable['output_type'] = 'display_data';\n",
              "          await google.colab.output.renderOutput(dataTable, element);\n",
              "          const docLink = document.createElement('div');\n",
              "          docLink.innerHTML = docLinkHtml;\n",
              "          element.appendChild(docLink);\n",
              "        }\n",
              "      </script>\n",
              "    </div>\n",
              "  </div>\n",
              "  "
            ]
          },
          "metadata": {},
          "execution_count": 49
        }
      ],
      "source": [
        "#5 - Combine todos os CSVs que começam com a palavra arquivo em um único DataFrame\n",
        "files_location = r\"/content\"\n",
        "estudantes = pd.DataFrame()\n",
        "estudantes = pd.concat(map(pd.read_csv,glob.glob(os.path.join(files_location,'arquivo*.csv'))), ignore_index= True)\n",
        "estudantes"
      ]
    },
    {
      "cell_type": "code",
      "execution_count": null,
      "id": "aea94ad7",
      "metadata": {
        "id": "aea94ad7",
        "colab": {
          "base_uri": "https://localhost:8080/"
        },
        "outputId": "93a488a6-47d7-4c7e-b325-688da3dffbb1"
      },
      "outputs": [
        {
          "output_type": "execute_result",
          "data": {
            "text/plain": [
              "0      False\n",
              "1      False\n",
              "2      False\n",
              "3      False\n",
              "4      False\n",
              "       ...  \n",
              "895    False\n",
              "896    False\n",
              "897    False\n",
              "898    False\n",
              "899    False\n",
              "Length: 900, dtype: bool"
            ]
          },
          "metadata": {},
          "execution_count": 50
        }
      ],
      "source": [
        "#6 Verique se o DataFrame estudantes possui algum registro duplicado\n",
        "estudantes.duplicated()"
      ]
    },
    {
      "cell_type": "code",
      "execution_count": null,
      "id": "3e123cff",
      "metadata": {
        "id": "3e123cff",
        "colab": {
          "base_uri": "https://localhost:8080/"
        },
        "outputId": "65e3c39c-d0d5-41f3-894d-a2f392162a26"
      },
      "outputs": [
        {
          "output_type": "stream",
          "name": "stdout",
          "text": [
            "   Unnamed: 0          full_name gender_age Fractions Probability       grade\n",
            "0           0     Barrett Feragh        M14       76%         72%   9th grade\n",
            "1           1    Llewellyn Keech        M14       83%         87%  12th grade\n",
            "2           2  Delilah Sowthcote        F16       90%         79%  10th grade\n",
            "3           3       Terrell Geri        M15       80%         86%  11th grade\n",
            "4           4     Gram Hallewell        M14       67%         78%  10th grade\n",
            "<class 'pandas.core.frame.DataFrame'>\n",
            "RangeIndex: 900 entries, 0 to 899\n",
            "Data columns (total 6 columns):\n",
            " #   Column       Non-Null Count  Dtype \n",
            "---  ------       --------------  ----- \n",
            " 0   Unnamed: 0   900 non-null    int64 \n",
            " 1   full_name    900 non-null    object\n",
            " 2   gender_age   900 non-null    object\n",
            " 3   Fractions    900 non-null    object\n",
            " 4   Probability  900 non-null    object\n",
            " 5   grade        900 non-null    object\n",
            "dtypes: int64(1), object(5)\n",
            "memory usage: 42.3+ KB\n",
            "None\n",
            "       Unnamed: 0\n",
            "count   900.00000\n",
            "mean     49.50000\n",
            "std      28.88212\n",
            "min       0.00000\n",
            "25%      24.75000\n",
            "50%      49.50000\n",
            "75%      74.25000\n",
            "max      99.00000\n",
            "   Unnamed: 0          full_name gender_age Fractions Probability       grade  \\\n",
            "0           0     Barrett Feragh        M14       76%         72%   9th grade   \n",
            "1           1    Llewellyn Keech        M14       83%         87%  12th grade   \n",
            "2           2  Delilah Sowthcote        F16       90%         79%  10th grade   \n",
            "3           3       Terrell Geri        M15       80%         86%  11th grade   \n",
            "4           4     Gram Hallewell        M14       67%         78%  10th grade   \n",
            "\n",
            "  gender age  \n",
            "0      M  14  \n",
            "1      M  14  \n",
            "2      F  16  \n",
            "3      M  15  \n",
            "4      M  14  \n"
          ]
        }
      ],
      "source": [
        "#Inspecione o DataFrame estudantes para conhecer os dados e colunas\n",
        "#7- A coluna gender_age possui duas informações gênero e idade, divida essa coluna em duas novas, gênero e idade\n",
        "#Imprima o .head()  para ver como fica o DataFrame após a criação das novas colunas.\n",
        "print(estudantes.head())\n",
        "print(estudantes.info())\n",
        "print(estudantes.describe())\n",
        "\n",
        "genders = []\n",
        "ages = []\n",
        "for index, row in estudantes.iterrows():\n",
        "  genders.append((estudantes['gender_age'].iloc[index])[0])\n",
        "  ages.append((estudantes['gender_age'].iloc[index])[1 : : ])\n",
        "estudantes['gender'] = genders\n",
        "estudantes['age'] = ages\n",
        "print(estudantes.head())"
      ]
    }
  ],
  "metadata": {
    "kernelspec": {
      "display_name": "Python 3",
      "language": "python",
      "name": "python3"
    },
    "language_info": {
      "codemirror_mode": {
        "name": "ipython",
        "version": 3
      },
      "file_extension": ".py",
      "mimetype": "text/x-python",
      "name": "python",
      "nbconvert_exporter": "python",
      "pygments_lexer": "ipython3",
      "version": "3.8.8"
    },
    "colab": {
      "provenance": [],
      "include_colab_link": true
    }
  },
  "nbformat": 4,
  "nbformat_minor": 5
}