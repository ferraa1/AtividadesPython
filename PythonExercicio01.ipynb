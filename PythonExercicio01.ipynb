{
  "nbformat": 4,
  "nbformat_minor": 0,
  "metadata": {
    "colab": {
      "provenance": [],
      "authorship_tag": "ABX9TyOB+QIZPTcfwaRnoFrZxCE+",
      "include_colab_link": true
    },
    "kernelspec": {
      "name": "python3",
      "display_name": "Python 3"
    },
    "language_info": {
      "name": "python"
    }
  },
  "cells": [
    {
      "cell_type": "markdown",
      "metadata": {
        "id": "view-in-github",
        "colab_type": "text"
      },
      "source": [
        "<a href=\"https://colab.research.google.com/github/ferraa1/AtividadesPython/blob/main/PythonExercicio01.ipynb\" target=\"_parent\"><img src=\"https://colab.research.google.com/assets/colab-badge.svg\" alt=\"Open In Colab\"/></a>"
      ]
    },
    {
      "cell_type": "code",
      "execution_count": null,
      "metadata": {
        "id": "qAOqiVPZQne5"
      },
      "outputs": [],
      "source": [
        "#Funções\n",
        "import math\n",
        "#Exercicio1\n",
        "def dobrar(x):\n",
        "  return x*2\n",
        "#Exercicio2\n",
        "def quaduplicar(x):\n",
        "  return dobrar(x)+dobrar(x)\n",
        "#Exercicio3\n",
        "def multiplicar(x,y,z):\n",
        "  return x*y*z\n",
        "#Exercicio4\n",
        "def calculardistancia(xa,ya,xb,yb):\n",
        "  return math.sqrt((xb-xa)**2 +(yb-ya)**2)\n",
        "#Exercicio5\n",
        "def hipotenusa(x,y):\n",
        "  return math.sqrt(x**2 + y**2)\n",
        "#Exercicio6\n",
        "def arearetangulo(x,y):\n",
        "  return x*y\n",
        "#Exercicio7\n",
        "def areacirculo(r):\n",
        "  return math.pi * r**2"
      ]
    },
    {
      "cell_type": "code",
      "source": [
        "#Main\n",
        "print(\"Dobrar 10 =\",dobrar(10))\n",
        "print(\"Quaduplicar 2 =\",quaduplicar(2))\n",
        "print(\"Multiplicar 3, 4 e 5 =\",multiplicar(3,4,5))\n",
        "print(\"Distancia entre pontos 1,1 e 3,3 =\",calculardistancia(1,1,3,3))\n",
        "print(\"Hipotenusa de um triangulo retangulo de catetos 2 e 3 =\",hipotenusa(2,3))\n",
        "print(\"Area de um retangulo 2 por 8 =\",arearetangulo(2,8))\n",
        "print(\"Area de um circulo de raio 2 =\",areacirculo(2))"
      ],
      "metadata": {
        "colab": {
          "base_uri": "https://localhost:8080/"
        },
        "id": "rrAVXqxDXsQ0",
        "outputId": "d13f477f-4b80-4f0f-f9f0-d192b2caec9e"
      },
      "execution_count": null,
      "outputs": [
        {
          "output_type": "stream",
          "name": "stdout",
          "text": [
            "Dobrar 10 = 20\n",
            "Quaduplicar 2 = 8\n",
            "Multiplicar 3, 4 e 5 = 60\n",
            "Distancia entre pontos 1,1 e 3,3 = 2.8284271247461903\n",
            "Hipotenusa de um triangulo retangulo de catetos 2 e 3 = 3.605551275463989\n",
            "Area de um retangulo 2 por 8 = 16\n",
            "Area de um circulo de raio 2 = 12.566370614359172\n"
          ]
        }
      ]
    }
  ]
}