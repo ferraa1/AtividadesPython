{
  "nbformat": 4,
  "nbformat_minor": 0,
  "metadata": {
    "colab": {
      "provenance": [],
      "authorship_tag": "ABX9TyOdDbj1XFosltnQH6cdrTkc",
      "include_colab_link": true
    },
    "kernelspec": {
      "name": "python3",
      "display_name": "Python 3"
    },
    "language_info": {
      "name": "python"
    }
  },
  "cells": [
    {
      "cell_type": "markdown",
      "metadata": {
        "id": "view-in-github",
        "colab_type": "text"
      },
      "source": [
        "<a href=\"https://colab.research.google.com/github/ferraa1/AtividadesPython/blob/main/Previs%C3%A3o_de_Cheias_(INCOMPLETO).ipynb\" target=\"_parent\"><img src=\"https://colab.research.google.com/assets/colab-badge.svg\" alt=\"Open In Colab\"/></a>"
      ]
    },
    {
      "cell_type": "markdown",
      "source": [
        "#Previsão de Cheias"
      ],
      "metadata": {
        "id": "rsFbBs7BbMbO"
      }
    },
    {
      "cell_type": "code",
      "source": [
        "#IMPORTS\n",
        "import matplotlib.pyplot as plt\n",
        "import pandas as pd\n",
        "import numpy as np\n",
        "import glob\n",
        "import os"
      ],
      "metadata": {
        "id": "TJeynxz8cu_n"
      },
      "execution_count": null,
      "outputs": []
    },
    {
      "cell_type": "code",
      "execution_count": null,
      "metadata": {
        "id": "VQWJ60a3bIem"
      },
      "outputs": [],
      "source": [
        "#convert txts to csvs\n",
        "\n",
        "  #delete first line from txt\n",
        "  #with open('file.txt', 'r') as fin:\n",
        "  # data = fin.read().splitlines(True)\n",
        "  #with open('file.txt', 'w') as fout:\n",
        "  # fout.writelines(data[1:])\n",
        "\n",
        "  #reading the given csv file \n",
        "  #and creating dataframe\n",
        "  #account = pd.read_csv(\"GeeksforGeeks.txt\",delimiter = '/') PRECISA DE header = None EM ALGUM LUGAR E DEPOIS account.columns = ['Name', 'Type', 'Website']\n",
        "  #store dataframe into csv file\n",
        "  #account.to_csv('GeeksforGeeks.csv',index = None)\n",
        "\n",
        "#load csvs into dataframes\n",
        "\n",
        "  #5 - Combine todos os CSVs que começam com a palavra arquivo em um único DataFrame\n",
        "  #files_location = r\"/content\"\n",
        "  #estudantes = pd.DataFrame()\n",
        "  #estudantes = pd.concat(map(pd.read_csv,glob.glob(os.path.join(files_location,'arquivo*.csv'))), ignore_index= True)\n",
        "  #estudantes\n",
        "\n",
        "#merge dataframes\n",
        "\n",
        "#clean dataframes\n",
        "\n",
        "#predict\n"
      ]
    }
  ]
}