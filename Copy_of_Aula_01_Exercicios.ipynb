{
  "cells": [
    {
      "cell_type": "markdown",
      "metadata": {
        "id": "view-in-github",
        "colab_type": "text"
      },
      "source": [
        "<a href=\"https://colab.research.google.com/github/ferraa1/AtividadesPython/blob/main/Copy_of_Aula_01_Exercicios.ipynb\" target=\"_parent\"><img src=\"https://colab.research.google.com/assets/colab-badge.svg\" alt=\"Open In Colab\"/></a>"
      ]
    },
    {
      "cell_type": "code",
      "source": [
        "#Importação das bibliotecas pandas e numpy:\n",
        "import pandas as pd\n",
        "import numpy as np"
      ],
      "metadata": {
        "id": "j42r73QprkLm"
      },
      "id": "j42r73QprkLm",
      "execution_count": null,
      "outputs": []
    },
    {
      "cell_type": "code",
      "execution_count": null,
      "id": "ea453675",
      "metadata": {
        "id": "ea453675"
      },
      "outputs": [],
      "source": [
        "#1 - Leia o CSV 'Filmes'em uma variável chamada df. Digite print(df) na próxima linha veja o que aparece.\n",
        "df = pd.read_csv('Filmes.csv')\n",
        "print(df)"
      ]
    },
    {
      "cell_type": "code",
      "execution_count": null,
      "id": "965ffdb9",
      "metadata": {
        "id": "965ffdb9"
      },
      "outputs": [],
      "source": [
        "#2 - Quando carregamos um novo DataFrame de um CSV, queremos saber como ele se parece.\n",
        "#Se for um DataFrame pequeno, você pode exibi-lo digitando print(df).\n",
        "#Se for um DataFrame maior, é útil poder inspecionar alguns itens sem precisar examinar o DataFrame inteiro.\n",
        "# Mostre  as 5 primeiras linhas do DataFrame df.\n",
        "# Mostre algumas estatísticas para cada coluna\n",
        "print(df.head())\n",
        "print(df.info())\n",
        "print(df.describe())"
      ]
    },
    {
      "cell_type": "code",
      "execution_count": null,
      "id": "f5acf7c7",
      "metadata": {
        "id": "f5acf7c7"
      },
      "outputs": [],
      "source": [
        "#Selecionar colunas\n",
        "#3 - Crie uma variável nomes_filmes que contenha somente os nomes dos filmes\n",
        "#Depois de criar a variável de o comando print(nomes_filmes)\n",
        "nomes_filmes = df['nome']\n",
        "print(nomes_filmes)"
      ]
    },
    {
      "cell_type": "code",
      "execution_count": null,
      "id": "07e9d785",
      "metadata": {
        "id": "07e9d785"
      },
      "outputs": [],
      "source": [
        "#Agora, você quer comparar os filmes através de suas notas \n",
        "#4 - Crie uma variável filmes_e_notas que contenha somente dos dados das colunas nome e nota_imdb\n",
        "#Depois de criar a variável de o comando print(filmes_e_notas)\n",
        "filmes_e_notas = df[['nome','nota_imdb']]\n",
        "print(filmes_e_notas)"
      ]
    },
    {
      "cell_type": "code",
      "execution_count": null,
      "id": "618e6808",
      "metadata": {
        "id": "618e6808"
      },
      "outputs": [],
      "source": [
        "#Selecionando linhas\n",
        "#5 - Escreva um comando que mostre os 10 primeiros registros\n",
        "print(df.iloc[:10])"
      ]
    },
    {
      "cell_type": "code",
      "execution_count": null,
      "id": "d9e1451c",
      "metadata": {
        "id": "d9e1451c"
      },
      "outputs": [],
      "source": [
        "#6 - Escreva um comando que mostre os 4 últimos registros do DataFrame\n",
        "print(df.tail(4))"
      ]
    },
    {
      "cell_type": "code",
      "execution_count": null,
      "id": "4d5a6477",
      "metadata": {
        "id": "4d5a6477"
      },
      "outputs": [],
      "source": [
        "df2 = pd.DataFrame([\n",
        "  [1, 'Parafuso de 3 polegadas', 0.5, 0.75],\n",
        "  [2, 'Prego de duas polegadas', 0.10, 0.25],\n",
        "  [3, 'Martelo', 3.00, 5.50],\n",
        "  [4, 'Chave de fenda', 2.50, 3.00]\n",
        "],\n",
        "  columns=['ID do produto', 'Produto', 'Custo de fabricação', 'preço']\n",
        ")\n",
        "df2"
      ]
    },
    {
      "cell_type": "code",
      "execution_count": null,
      "id": "6c6f7b1c",
      "metadata": {
        "id": "6c6f7b1c"
      },
      "outputs": [],
      "source": [
        "#7 - Adiciona ao df2 a coluna margem que é a diferença entre o preço e custo de fabricação\n",
        "df2['margem'] = df2['preço'] - df2['Custo de fabricação']\n",
        "df2"
      ]
    },
    {
      "cell_type": "code",
      "execution_count": null,
      "id": "c63c33dc",
      "metadata": {
        "id": "c63c33dc"
      },
      "outputs": [],
      "source": [
        "#8 - Altere o nome da coluna ID do produto para ID e Produto para Descrição\n",
        "df2.columns = ['ID', 'Descrição', 'Custo de fabricação', 'preço', 'margem']\n",
        "df2"
      ]
    },
    {
      "cell_type": "code",
      "execution_count": null,
      "id": "40ade966",
      "metadata": {
        "id": "40ade966"
      },
      "outputs": [],
      "source": [
        "#Leia o CSV 'olimpíadas'em uma variável chamada df3.\n",
        "#Examine o DataFrame para entender o conjunto de dados\n",
        "df3 = pd.read_csv('olimpíadas.csv')\n",
        "print(df3)\n",
        "print(df3.head())\n",
        "print(df3.info())\n",
        "print(df3.describe())"
      ]
    },
    {
      "cell_type": "code",
      "execution_count": null,
      "id": "812561f5",
      "metadata": {
        "id": "812561f5"
      },
      "outputs": [],
      "source": [
        "#9 - Escreva um comando que mostre o nome dos atletas brasileiros com mais de 30 anos e do sexo masculino que participaram\n",
        "#das olimpíadas a partir de 2012\n",
        "df3[(df3.pais == 'Brazil') & (df3.idade > 30) & (df3.ano >= 2012) & (df3.sexo == 'M')]"
      ]
    },
    {
      "cell_type": "code",
      "execution_count": null,
      "id": "c71ebcbd",
      "metadata": {
        "id": "c71ebcbd"
      },
      "outputs": [],
      "source": [
        "#10 - Crie uma variável media_idade que contenha a média de idade dos atletas brasileiros\n",
        "#Depois de criar a variável de o comando print(media_idade)\n",
        "result = df3[df3.pais == 'Brazil']\n",
        "media_idade = np.mean(result['idade'])\n",
        "print(media_idade)"
      ]
    },
    {
      "cell_type": "code",
      "execution_count": null,
      "id": "21814506",
      "metadata": {
        "id": "21814506"
      },
      "outputs": [],
      "source": [
        "#11 - Escreva um comando que mostre o nome, idade e ano de participação do atleta brasileiro mais velho\n",
        "#que participou dos jogos olimpícos\n",
        "result = df3[df3.pais == 'Brazil'].reset_index()\n",
        "result = result.iloc[result['idade'].idxmax()]\n",
        "result = result[['nome_atleta','idade','ano']]\n",
        "result"
      ]
    },
    {
      "cell_type": "code",
      "execution_count": null,
      "id": "b9e56062",
      "metadata": {
        "id": "b9e56062"
      },
      "outputs": [],
      "source": [
        "#12 - Escreva um comando que mostre o nome, o ano e idade do atleta brasileiro mais jovem a ganhar uma medalha de ouro.\n",
        "result = df3[(df3.pais == 'Brazil') & (df3.medalha == 'Gold')].reset_index()\n",
        "result = result.iloc[result['idade'].idxmin()]\n",
        "result = result[['nome_atleta','idade','ano']]\n",
        "result"
      ]
    },
    {
      "cell_type": "code",
      "execution_count": null,
      "id": "9ffc4b44",
      "metadata": {
        "id": "9ffc4b44"
      },
      "outputs": [],
      "source": [
        "#13 - Crie uma variável total_pais que contenha o total de medalhas por pais\n",
        "#Depois de criar a variável de o comando print(total_pais)\n",
        "total_pais = (df3.groupby(['pais']).count())['medalha']\n",
        "print(total_pais)"
      ]
    },
    {
      "cell_type": "code",
      "execution_count": null,
      "id": "cf68ec52",
      "metadata": {
        "id": "cf68ec52"
      },
      "outputs": [],
      "source": [
        "#Voltando ao primeiro DataFrame sobre filmes\n",
        "#14 - Escreva um comando que mostre quais o generos de filmes estão disponíveis no DataFrame.\n",
        "#Obs: Não é só mostrar a coluna gênero\n",
        "for x in df.groupby(['genero']).groups.keys():\n",
        "  print(x)"
      ]
    },
    {
      "cell_type": "code",
      "execution_count": null,
      "id": "7d473638",
      "metadata": {
        "id": "7d473638"
      },
      "outputs": [],
      "source": [
        "#15 - Escreva um comando que apresente a média das notas dos filmes por ano.\n",
        "print(df.groupby(['ano']).mean())"
      ]
    }
  ],
  "metadata": {
    "kernelspec": {
      "display_name": "Python 3",
      "language": "python",
      "name": "python3"
    },
    "language_info": {
      "codemirror_mode": {
        "name": "ipython",
        "version": 3
      },
      "file_extension": ".py",
      "mimetype": "text/x-python",
      "name": "python",
      "nbconvert_exporter": "python",
      "pygments_lexer": "ipython3",
      "version": "3.8.8"
    },
    "colab": {
      "provenance": [],
      "include_colab_link": true
    }
  },
  "nbformat": 4,
  "nbformat_minor": 5
}