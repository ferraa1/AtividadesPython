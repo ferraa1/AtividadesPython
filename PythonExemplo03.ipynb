{
  "nbformat": 4,
  "nbformat_minor": 0,
  "metadata": {
    "colab": {
      "provenance": [],
      "authorship_tag": "ABX9TyNzNy23eP0w4hoS8lg2aDVb",
      "include_colab_link": true
    },
    "kernelspec": {
      "name": "python3",
      "display_name": "Python 3"
    },
    "language_info": {
      "name": "python"
    }
  },
  "cells": [
    {
      "cell_type": "markdown",
      "metadata": {
        "id": "view-in-github",
        "colab_type": "text"
      },
      "source": [
        "<a href=\"https://colab.research.google.com/github/ferraa1/AtividadesPython/blob/main/PythonExemplo03.ipynb\" target=\"_parent\"><img src=\"https://colab.research.google.com/assets/colab-badge.svg\" alt=\"Open In Colab\"/></a>"
      ]
    },
    {
      "cell_type": "code",
      "execution_count": null,
      "metadata": {
        "id": "uHbXHW3SSzcr"
      },
      "outputs": [],
      "source": [
        "lista1 = [1,2,3,\"um\",\"dois\",\"tres\"]\n",
        "lista2 = [4,5,6,\"quatro\",\"cinco\",\"seis\"]"
      ]
    },
    {
      "cell_type": "code",
      "source": [
        "print(lista1)\n",
        "print(lista2)\n",
        "lista3 = lista1 + lista2\n",
        "print(lista3)"
      ],
      "metadata": {
        "colab": {
          "base_uri": "https://localhost:8080/"
        },
        "id": "OHWcATGvTXpv",
        "outputId": "bfddcd36-d7ee-4314-cb27-e5b326aad307"
      },
      "execution_count": null,
      "outputs": [
        {
          "output_type": "stream",
          "name": "stdout",
          "text": [
            "[1, 2, 3, 'um', 'dois', 'tres']\n",
            "[4, 5, 6, 'quatro', 'cinco', 'seis']\n",
            "[1, 2, 3, 'um', 'dois', 'tres', 4, 5, 6, 'quatro', 'cinco', 'seis']\n"
          ]
        }
      ]
    }
  ]
}