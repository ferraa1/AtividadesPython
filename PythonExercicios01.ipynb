{
  "nbformat": 4,
  "nbformat_minor": 0,
  "metadata": {
    "colab": {
      "provenance": [],
      "authorship_tag": "ABX9TyNuTcbK0h6QepKB0d0JGrpC",
      "include_colab_link": true
    },
    "kernelspec": {
      "name": "python3",
      "display_name": "Python 3"
    },
    "language_info": {
      "name": "python"
    }
  },
  "cells": [
    {
      "cell_type": "markdown",
      "metadata": {
        "id": "view-in-github",
        "colab_type": "text"
      },
      "source": [
        "<a href=\"https://colab.research.google.com/github/ferraa1/AtividadesPython/blob/main/PythonExercicios01.ipynb\" target=\"_parent\"><img src=\"https://colab.research.google.com/assets/colab-badge.svg\" alt=\"Open In Colab\"/></a>"
      ]
    },
    {
      "cell_type": "markdown",
      "source": [
        "# Aula1-Exercicios"
      ],
      "metadata": {
        "id": "uoce_Bj4vKI0"
      }
    },
    {
      "cell_type": "code",
      "execution_count": null,
      "metadata": {
        "id": "fqvdSE6Ru5UO",
        "colab": {
          "base_uri": "https://localhost:8080/"
        },
        "outputId": "e6cdfc11-aa10-45b7-a5ef-b27516040f77"
      },
      "outputs": [
        {
          "output_type": "stream",
          "name": "stdout",
          "text": [
            "[1, 2, 3, 4, 5, 6, 7, 8, 9, 10]\n"
          ]
        }
      ],
      "source": [
        "# Exercício 1 - Imprima na tela os npumeros de 1 a 10. Use uma lista para armazear os números.\n",
        "listaNumeros = [1, 2, 3, 4, 5, 6, 7, 8, 9, 10]\n",
        "print(listaNumeros)"
      ]
    },
    {
      "cell_type": "code",
      "source": [
        "# Exercício 2 - Crie uma lista de 5 objetos e imprima na tela.\n",
        "listaObjetos = [10, 3.14, \"String\", \"cinco\" , [1, 2, 3]]\n",
        "print(listaObjetos)"
      ],
      "metadata": {
        "colab": {
          "base_uri": "https://localhost:8080/"
        },
        "id": "xSg-ola_262F",
        "outputId": "b0187652-ca08-473f-e022-6ca987fa4016"
      },
      "execution_count": null,
      "outputs": [
        {
          "output_type": "stream",
          "name": "stdout",
          "text": [
            "[10, 3.14, 'String', 'cinco', [1, 2, 3]]\n"
          ]
        }
      ]
    },
    {
      "cell_type": "code",
      "source": [
        "# Exercício 3 - Crie duas strings e concatene as duas em uma terceira string.\n",
        "primeira = \"String1 \"\n",
        "segunda = \"String2 \"\n",
        "terceira = primeira + segunda\n",
        "print(terceira)"
      ],
      "metadata": {
        "colab": {
          "base_uri": "https://localhost:8080/"
        },
        "id": "d4GNg2ch4d1H",
        "outputId": "4cef02df-b20b-4752-d4ff-d12144241782"
      },
      "execution_count": null,
      "outputs": [
        {
          "output_type": "stream",
          "name": "stdout",
          "text": [
            "String1 String2 \n"
          ]
        }
      ]
    },
    {
      "cell_type": "code",
      "source": [
        "# Exercício 4 - Crie uma tupla com os seguintes elementos: 1, 2, 2, 3, 4, 4, 4, 5 e depois utilize a função count do objeto tupla para verificar quantas vezes o número 4 aparece na tupla.\n",
        "tupla = (1, 2, 2, 3, 4 ,4 ,4 ,5)\n",
        "print(tupla.count(4))"
      ],
      "metadata": {
        "colab": {
          "base_uri": "https://localhost:8080/"
        },
        "id": "6-4sQSFq46dT",
        "outputId": "18b65a3c-b87c-4d15-a3f5-9b8c7e021963"
      },
      "execution_count": null,
      "outputs": [
        {
          "output_type": "stream",
          "name": "stdout",
          "text": [
            "3\n"
          ]
        }
      ]
    },
    {
      "cell_type": "code",
      "source": [
        "# Exercício 5 - Crie um dicionário vazio e imprima na tela.\n",
        "dicionario = {}\n",
        "print(dicionario)"
      ],
      "metadata": {
        "colab": {
          "base_uri": "https://localhost:8080/"
        },
        "id": "s3FlQ1JY5Iak",
        "outputId": "1457d4c9-ef81-46c7-bece-4715075843b9"
      },
      "execution_count": null,
      "outputs": [
        {
          "output_type": "stream",
          "name": "stdout",
          "text": [
            "{}\n"
          ]
        }
      ]
    },
    {
      "cell_type": "code",
      "source": [
        "# Exercício 6 - Crie um dicionário com 3 chaves e 3 valores e imprima na tela.\n",
        "dicionario = {\"key1\": 1, \"key2\": 2, \"key3\": 3}\n",
        "print(dicionario)"
      ],
      "metadata": {
        "colab": {
          "base_uri": "https://localhost:8080/"
        },
        "id": "GCStkQLw6AoA",
        "outputId": "b765733f-4cdb-4db2-8978-14773222e220"
      },
      "execution_count": null,
      "outputs": [
        {
          "output_type": "stream",
          "name": "stdout",
          "text": [
            "{'key1': 1, 'key2': 2, 'key3': 3}\n"
          ]
        }
      ]
    },
    {
      "cell_type": "code",
      "source": [
        "# Exercício 7 - Adicione mais um elemento ao dicionário criado no exercício anterior e imprima na tela.\n",
        "dicionario.update({\"key4\": 4})\n",
        "print(dicionario)"
      ],
      "metadata": {
        "colab": {
          "base_uri": "https://localhost:8080/"
        },
        "id": "lkMyNaBo6wgp",
        "outputId": "32b7b70a-5221-4e34-f75b-d056d9869c1c"
      },
      "execution_count": null,
      "outputs": [
        {
          "output_type": "stream",
          "name": "stdout",
          "text": [
            "{'key1': 1, 'key2': 2, 'key3': 3, 'key4': 4}\n"
          ]
        }
      ]
    },
    {
      "cell_type": "code",
      "source": [
        "# Exercício 8 - Crie um dicionário com 3 chaves e 3 valores. Um dos valores deve ser uma lista de 2 elementos numéricos. Imprima o dicionário na tela.\n",
        "dicionario = {\"chave1\": 10,\"chave2\": [47, 46],\"chave3\": 30}\n",
        "print(dicionario)"
      ],
      "metadata": {
        "colab": {
          "base_uri": "https://localhost:8080/"
        },
        "id": "10PVAdfk72ml",
        "outputId": "5cb0a62f-faf5-4c64-abf3-75519016e808"
      },
      "execution_count": null,
      "outputs": [
        {
          "output_type": "stream",
          "name": "stdout",
          "text": [
            "{'chave1': 10, 'chave2': [47, 46], 'chave3': 30}\n"
          ]
        }
      ]
    },
    {
      "cell_type": "code",
      "execution_count": null,
      "metadata": {
        "id": "kSUmEFK18swO",
        "colab": {
          "base_uri": "https://localhost:8080/"
        },
        "outputId": "a771cb19-dcf0-40ab-bd1a-242c4c3de88c"
      },
      "outputs": [
        {
          "output_type": "stream",
          "name": "stdout",
          "text": [
            "['String', (21, 22), {'key1': 100, 'key2': 200}, 3.14]\n"
          ]
        }
      ],
      "source": [
        "# Exercício 9 - Crie uma lista de 4 elementos. O primeiro elemento deve ser uma string, o segundo uma tupla de 2 elementos, o terceiro um dcionário com 2 chaves e 2 valores e o quarto elemento um valor do tipo float. Imprima a lista na tela.\n",
        "listaMista = [\"String\", (21, 22), {\"key1\": 100, \"key2\": 200}, 3.14]\n",
        "print(listaMista)"
      ]
    },
    {
      "cell_type": "code",
      "execution_count": null,
      "metadata": {
        "id": "VI1EpHKs8swP",
        "colab": {
          "base_uri": "https://localhost:8080/"
        },
        "outputId": "92ca8c18-c4f5-4e36-d72b-884d4906e770"
      },
      "outputs": [
        {
          "output_type": "stream",
          "name": "stdout",
          "text": [
            "ientista de Dados\n"
          ]
        }
      ],
      "source": [
        "# Exercício 10 - Considere a string abaixo. Imprima na tela apenas os caracteres da posição 1 a 18.\n",
        "frase = 'Cientista de Dados é o profissional mais relevante do século XXI'\n",
        "print(frase[1:18])"
      ]
    }
  ]
}