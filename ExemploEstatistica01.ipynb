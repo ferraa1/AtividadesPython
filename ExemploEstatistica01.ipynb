{
  "nbformat": 4,
  "nbformat_minor": 0,
  "metadata": {
    "colab": {
      "provenance": [],
      "authorship_tag": "ABX9TyMvm21ShR0su0m+swKV6vik",
      "include_colab_link": true
    },
    "kernelspec": {
      "name": "python3",
      "display_name": "Python 3"
    },
    "language_info": {
      "name": "python"
    }
  },
  "cells": [
    {
      "cell_type": "markdown",
      "metadata": {
        "id": "view-in-github",
        "colab_type": "text"
      },
      "source": [
        "<a href=\"https://colab.research.google.com/github/ferraa1/AtividadesPython/blob/main/ExemploEstatistica01.ipynb\" target=\"_parent\"><img src=\"https://colab.research.google.com/assets/colab-badge.svg\" alt=\"Open In Colab\"/></a>"
      ]
    },
    {
      "cell_type": "code",
      "execution_count": null,
      "metadata": {
        "id": "HZ10tI5G8hkI",
        "colab": {
          "base_uri": "https://localhost:8080/"
        },
        "outputId": "7166900c-9e1b-4a2c-a93d-a8c0ab7adeac"
      },
      "outputs": [
        {
          "output_type": "stream",
          "name": "stdout",
          "text": [
            "  CIDADE COMBUSTIVEL  POSTO1PRECO  POSTO2PRECO  POSTO3PRECO  POSTO4PRECO  \\\n",
            "0      A    gasolina         7.50         6.90         7.85         6.40   \n",
            "1      A      etanol         4.25         4.00         3.80         4.95   \n",
            "2      A      diesel         6.45         6.50         6.90         7.15   \n",
            "3      B    gasolina         9.05         7.30         6.75         7.05   \n",
            "4      B      etanol         4.05         3.98         4.05         4.05   \n",
            "5      B      diesel         6.50         6.55         4.49         6.89   \n",
            "6      C    gasolina         6.85         7.25         7.29         6.99   \n",
            "7      C      etanol         3.99         3.98         4.15         4.05   \n",
            "8      C      diesel         7.65         6.05         6.10         7.55   \n",
            "\n",
            "   POSTO5PRECO  \n",
            "0         7.20  \n",
            "1         4.80  \n",
            "2         7.05  \n",
            "3         7.00  \n",
            "4         3.95  \n",
            "5         7.10  \n",
            "6         7.15  \n",
            "7         3.99  \n",
            "8         5.99  \n"
          ]
        }
      ],
      "source": [
        "import pandas\n",
        "result = pandas.read_csv('COMBUSTIVEIS.csv')\n",
        "print(result)"
      ]
    }
  ]
}