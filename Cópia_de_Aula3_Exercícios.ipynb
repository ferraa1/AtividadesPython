{
  "cells": [
    {
      "cell_type": "markdown",
      "metadata": {
        "id": "view-in-github",
        "colab_type": "text"
      },
      "source": [
        "<a href=\"https://colab.research.google.com/github/ferraa1/AtividadesPython/blob/main/C%C3%B3pia_de_Aula3_Exerc%C3%ADcios.ipynb\" target=\"_parent\"><img src=\"https://colab.research.google.com/assets/colab-badge.svg\" alt=\"Open In Colab\"/></a>"
      ]
    },
    {
      "cell_type": "code",
      "execution_count": null,
      "metadata": {
        "id": "0fJBJghR5lTt"
      },
      "outputs": [],
      "source": [
        "#1 - No intervalo de 0 a 1000 salve os números pares no arquivo pares.txt e os ímpares no arquivo impares.txt\n",
        "parespath = \"pares.txt\"\n",
        "imparespath = \"impares.txt\"\n",
        "pares = open(parespath, \"a\")\n",
        "impares = open(imparespath, \"a\")\n",
        "for i in range(0,1001):\n",
        "  if i % 2 == 0:\n",
        "    pares.write(\" {}\".format(i))\n",
        "  else:\n",
        "    impares.write(\" {}\".format(i))\n",
        "pares.close()\n",
        "impares.close()\n",
        "pares = open(\"pares.txt\", \"r\")\n",
        "impares = open(\"impares.txt\", \"r\")\n",
        "print(\"PARES:\",pares.read())\n",
        "print(\"IMPARES:\",impares.read())\n",
        "pares.close()\n",
        "impares.close()\n",
        "\n",
        "#limpeza\n",
        "import os\n",
        "os.remove(parespath)\n",
        "os.remove(imparespath)"
      ]
    },
    {
      "cell_type": "code",
      "execution_count": null,
      "metadata": {
        "id": "I0wPxSfE5lTy",
        "colab": {
          "base_uri": "https://localhost:8080/"
        },
        "outputId": "363e6d11-b6a4-4169-d21a-776028f90bac"
      },
      "outputs": [
        {
          "output_type": "stream",
          "name": "stdout",
          "text": [
            "['jose 10 15 20 30 40', 'pedro 23 16 19 22', 'suzana 8 22 17 14 32 17 24 21 2 9 11 17', 'gisela 12 28 21 45 26 10', 'joao 14 32 25 16 89 5 6']\n",
            "\n",
            "[['jose 10 15 20 30 40'], ['pedro 23 16 19 22'], ['suzana 8 22 17 14 32 17 24 21 2 9 11 17'], ['gisela 12 28 21 45 26 10'], ['joao 14 32 25 16 89 5 6']]\n",
            "\n",
            "jose 10 15 20 30 40\n",
            "\n",
            "pedro 23 16 19 22\n",
            "\n",
            "suzana 8 22 17 14 32 17 24 21 2 9 11 17\n",
            "\n",
            "gisela 12 28 21 45 26 10\n",
            "\n",
            "joao 14 32 25 16 89 5 6\n"
          ]
        }
      ],
      "source": [
        "#2-Usando o arquivo texto notas_estudantes escreva um programa que imprime o nome dos alunos que têm mais de seis notas.\n",
        "arquivopath = \"notas_estudantes.txt\";\n",
        "arquivo = open(arquivopath, \"r\")\n",
        "linhas = len(arquivo.readlines())\n",
        "arquivo.seek(0)\n",
        "#\n",
        "lista1 = arquivo.read().split(\"\\n\")\n",
        "print(lista1)\n",
        "arquivo.seek(0)\n",
        "print()\n",
        "#\n",
        "lista2 = []\n",
        "for i in lista1:\n",
        "  lista2 += [i.split(\"\\s\")]\n",
        "print(lista2)\n",
        "\n",
        "print()\n",
        "#\n",
        "for i in range(0,linhas):\n",
        "  print(arquivo.readline())\n",
        "arquivo.close()"
      ]
    },
    {
      "cell_type": "code",
      "execution_count": null,
      "metadata": {
        "id": "B1lx4dAc5lT0"
      },
      "outputs": [],
      "source": [
        "#3- Usando o arquivo texto notas_estudantes escreva um programa que calcula a média das notas de cada estudante\n",
        "#e imprime o nome e a média de cada estudante.\n"
      ]
    },
    {
      "cell_type": "code",
      "execution_count": null,
      "metadata": {
        "id": "RNbQAjEW5lT2"
      },
      "outputs": [],
      "source": [
        "#4- Usando o arquivo texto notas_estudantes escreva um programa que calcula a nota mínima e máxima de cada estudante \n",
        "#e imprima o nome de cada aluno junto com a sua nota máxima e mínima\n"
      ]
    }
  ],
  "metadata": {
    "kernelspec": {
      "display_name": "Python 3",
      "language": "python",
      "name": "python3"
    },
    "language_info": {
      "codemirror_mode": {
        "name": "ipython",
        "version": 3
      },
      "file_extension": ".py",
      "mimetype": "text/x-python",
      "name": "python",
      "nbconvert_exporter": "python",
      "pygments_lexer": "ipython3",
      "version": "3.7.1"
    },
    "colab": {
      "provenance": [],
      "include_colab_link": true
    }
  },
  "nbformat": 4,
  "nbformat_minor": 0
}