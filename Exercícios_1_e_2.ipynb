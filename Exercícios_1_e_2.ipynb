{
  "nbformat": 4,
  "nbformat_minor": 0,
  "metadata": {
    "colab": {
      "provenance": [],
      "collapsed_sections": [
        "7VkgV-qTa7mC",
        "TpzxNtzHbCEz"
      ],
      "authorship_tag": "ABX9TyOc5j8pUVtE9DSZZpq9AgfR",
      "include_colab_link": true
    },
    "kernelspec": {
      "name": "python3",
      "display_name": "Python 3"
    },
    "language_info": {
      "name": "python"
    }
  },
  "cells": [
    {
      "cell_type": "markdown",
      "metadata": {
        "id": "view-in-github",
        "colab_type": "text"
      },
      "source": [
        "<a href=\"https://colab.research.google.com/github/ferraa1/AtividadesPython/blob/main/Exerc%C3%ADcios_1_e_2.ipynb\" target=\"_parent\"><img src=\"https://colab.research.google.com/assets/colab-badge.svg\" alt=\"Open In Colab\"/></a>"
      ]
    },
    {
      "cell_type": "code",
      "execution_count": null,
      "metadata": {
        "id": "sfTRvaGjaVQS"
      },
      "outputs": [],
      "source": [
        "#ESTA CÉLULA É NECESSÁRIA PARA A EXECUÇÃO DAS OUTRAS CÉLULAS\n",
        "#AS CÉLULAS DEVEM SER EXECUTADAS EM ORDEM\n",
        "#AS CÉLULAS DO EXERCÍCIO 1 NÃO PRECISAM SER EXECUTADAS PARA A EXECUÇÃO DAS CÉLULAS DO EXERCÍCIO 2\n",
        "#Importação das bibliotecas pandas, numpy, glob e os:\n",
        "import pandas as pd\n",
        "import numpy as np\n",
        "import glob\n",
        "import os"
      ]
    },
    {
      "cell_type": "markdown",
      "source": [
        "###Exercício 1"
      ],
      "metadata": {
        "id": "7VkgV-qTa7mC"
      }
    },
    {
      "cell_type": "code",
      "execution_count": null,
      "metadata": {
        "id": "ea453675",
        "colab": {
          "base_uri": "https://localhost:8080/"
        },
        "outputId": "5ce9ab4e-2ad6-4a2f-c2e2-c80a07140399"
      },
      "outputs": [
        {
          "output_type": "stream",
          "name": "stdout",
          "text": [
            "      id                                       nome  genero     ano  nota_imdb\n",
            "0      1                                     Avatar  action  2009.0        7.9\n",
            "1      2                             Jurassic World  action  2015.0        7.3\n",
            "2      3                               The Avengers  action  2012.0        8.1\n",
            "3      4                            The Dark Knight  action  2008.0        9.0\n",
            "4      5  Star Wars: Episode I - The Phantom Menace  action  1999.0        6.6\n",
            "..   ...                                        ...     ...     ...        ...\n",
            "215  216                                   Hannibal   drama  2001.0        6.7\n",
            "216  217                        Catch Me If You Can   drama  2002.0        8.0\n",
            "217  218                                  Big Daddy   drama  1999.0        6.4\n",
            "218  219                                      Se7en   drama  1995.0        8.6\n",
            "219  220                                      Seven   drama  1979.0        6.1\n",
            "\n",
            "[220 rows x 5 columns]\n"
          ]
        }
      ],
      "source": [
        "#1 - Leia o CSV 'Filmes'em uma variável chamada df. Digite print(df) na próxima linha veja o que aparece.\n",
        "df = pd.read_csv('Filmes.csv')\n",
        "print(df)"
      ]
    },
    {
      "cell_type": "code",
      "execution_count": null,
      "metadata": {
        "id": "965ffdb9",
        "colab": {
          "base_uri": "https://localhost:8080/"
        },
        "outputId": "7dd81e8a-7bbb-4772-e2e4-3103fdb21f85"
      },
      "outputs": [
        {
          "output_type": "stream",
          "name": "stdout",
          "text": [
            "  id                                       nome  genero     ano  nota_imdb\n",
            "0  1                                     Avatar  action  2009.0        7.9\n",
            "1  2                             Jurassic World  action  2015.0        7.3\n",
            "2  3                               The Avengers  action  2012.0        8.1\n",
            "3  4                            The Dark Knight  action  2008.0        9.0\n",
            "4  5  Star Wars: Episode I - The Phantom Menace  action  1999.0        6.6\n",
            "<class 'pandas.core.frame.DataFrame'>\n",
            "RangeIndex: 220 entries, 0 to 219\n",
            "Data columns (total 5 columns):\n",
            " #   Column     Non-Null Count  Dtype  \n",
            "---  ------     --------------  -----  \n",
            " 0   id         220 non-null    object \n",
            " 1   nome       219 non-null    object \n",
            " 2   genero     219 non-null    object \n",
            " 3   ano        219 non-null    float64\n",
            " 4   nota_imdb  219 non-null    float64\n",
            "dtypes: float64(2), object(3)\n",
            "memory usage: 8.7+ KB\n",
            "None\n",
            "               ano   nota_imdb\n",
            "count   219.000000  219.000000\n",
            "mean   2002.972603    6.988584\n",
            "std      11.157306    0.969066\n",
            "min    1937.000000    4.200000\n",
            "25%    1999.000000    6.400000\n",
            "50%    2006.000000    7.100000\n",
            "75%    2011.000000    7.700000\n",
            "max    2015.000000    9.000000\n"
          ]
        }
      ],
      "source": [
        "#2 - Quando carregamos um novo DataFrame de um CSV, queremos saber como ele se parece.\n",
        "#Se for um DataFrame pequeno, você pode exibi-lo digitando print(df).\n",
        "#Se for um DataFrame maior, é útil poder inspecionar alguns itens sem precisar examinar o DataFrame inteiro.\n",
        "# Mostre  as 5 primeiras linhas do DataFrame df.\n",
        "# Mostre algumas estatísticas para cada coluna\n",
        "print(df.head())\n",
        "print(df.info())\n",
        "print(df.describe())"
      ]
    },
    {
      "cell_type": "code",
      "execution_count": null,
      "metadata": {
        "id": "f5acf7c7",
        "colab": {
          "base_uri": "https://localhost:8080/"
        },
        "outputId": "d26d52ea-9734-4900-d4e8-03750e24adc3"
      },
      "outputs": [
        {
          "output_type": "stream",
          "name": "stdout",
          "text": [
            "0                                         Avatar\n",
            "1                                 Jurassic World\n",
            "2                                   The Avengers\n",
            "3                                The Dark Knight\n",
            "4      Star Wars: Episode I - The Phantom Menace\n",
            "                         ...                    \n",
            "215                                     Hannibal\n",
            "216                          Catch Me If You Can\n",
            "217                                    Big Daddy\n",
            "218                                        Se7en\n",
            "219                                        Seven\n",
            "Name: nome, Length: 220, dtype: object\n"
          ]
        }
      ],
      "source": [
        "#Selecionar colunas\n",
        "#3 - Crie uma variável nomes_filmes que contenha somente os nomes dos filmes\n",
        "#Depois de criar a variável de o comando print(nomes_filmes)\n",
        "nomes_filmes = df['nome']\n",
        "print(nomes_filmes)"
      ]
    },
    {
      "cell_type": "code",
      "execution_count": null,
      "metadata": {
        "id": "07e9d785",
        "colab": {
          "base_uri": "https://localhost:8080/"
        },
        "outputId": "d64bdf50-0eb2-40b5-e4f2-c9f59da6b733"
      },
      "outputs": [
        {
          "output_type": "stream",
          "name": "stdout",
          "text": [
            "                                          nome  nota_imdb\n",
            "0                                       Avatar        7.9\n",
            "1                               Jurassic World        7.3\n",
            "2                                 The Avengers        8.1\n",
            "3                              The Dark Knight        9.0\n",
            "4    Star Wars: Episode I - The Phantom Menace        6.6\n",
            "..                                         ...        ...\n",
            "215                                   Hannibal        6.7\n",
            "216                        Catch Me If You Can        8.0\n",
            "217                                  Big Daddy        6.4\n",
            "218                                      Se7en        8.6\n",
            "219                                      Seven        6.1\n",
            "\n",
            "[220 rows x 2 columns]\n"
          ]
        }
      ],
      "source": [
        "#Agora, você quer comparar os filmes através de suas notas \n",
        "#4 - Crie uma variável filmes_e_notas que contenha somente dos dados das colunas nome e nota_imdb\n",
        "#Depois de criar a variável de o comando print(filmes_e_notas)\n",
        "filmes_e_notas = df[['nome','nota_imdb']]\n",
        "print(filmes_e_notas)"
      ]
    },
    {
      "cell_type": "code",
      "execution_count": null,
      "metadata": {
        "id": "618e6808",
        "colab": {
          "base_uri": "https://localhost:8080/"
        },
        "outputId": "ed49050a-8298-4baf-a966-549249f4246e"
      },
      "outputs": [
        {
          "output_type": "stream",
          "name": "stdout",
          "text": [
            "   id                                       nome  genero     ano  nota_imdb\n",
            "0   1                                     Avatar  action  2009.0        7.9\n",
            "1   2                             Jurassic World  action  2015.0        7.3\n",
            "2   3                               The Avengers  action  2012.0        8.1\n",
            "3   4                            The Dark Knight  action  2008.0        9.0\n",
            "4   5  Star Wars: Episode I - The Phantom Menace  action  1999.0        6.6\n",
            "5   6                                  Star Wars  action  1977.0        8.7\n",
            "6   7                    Avengers: Age of Ultron  action  2015.0        7.9\n",
            "7   8                      The Dark Knight Rises  action  2012.0        8.5\n",
            "8   9  Pirates of the Caribbean: Dead Mans Chest  action  2006.0        7.3\n",
            "9  10                                 Iron Man 3  action  2013.0        7.3\n"
          ]
        }
      ],
      "source": [
        "#Selecionando linhas\n",
        "#5 - Escreva um comando que mostre os 10 primeiros registros\n",
        "print(df.iloc[:10])"
      ]
    },
    {
      "cell_type": "code",
      "execution_count": null,
      "metadata": {
        "id": "d9e1451c",
        "colab": {
          "base_uri": "https://localhost:8080/"
        },
        "outputId": "19aa802a-d966-4437-85d7-09f80878c52d"
      },
      "outputs": [
        {
          "output_type": "stream",
          "name": "stdout",
          "text": [
            "      id                 nome genero     ano  nota_imdb\n",
            "216  217  Catch Me If You Can  drama  2002.0        8.0\n",
            "217  218            Big Daddy  drama  1999.0        6.4\n",
            "218  219                Se7en  drama  1995.0        8.6\n",
            "219  220                Seven  drama  1979.0        6.1\n"
          ]
        }
      ],
      "source": [
        "#6 - Escreva um comando que mostre os 4 últimos registros do DataFrame\n",
        "print(df.tail(4))"
      ]
    },
    {
      "cell_type": "code",
      "execution_count": null,
      "metadata": {
        "id": "4d5a6477",
        "colab": {
          "base_uri": "https://localhost:8080/",
          "height": 175
        },
        "outputId": "6e97c908-baad-4b93-b767-63ff767fa745"
      },
      "outputs": [
        {
          "output_type": "execute_result",
          "data": {
            "text/plain": [
              "   ID do produto                  Produto  Custo de fabricação  preço\n",
              "0              1  Parafuso de 3 polegadas                  0.5   0.75\n",
              "1              2  Prego de duas polegadas                  0.1   0.25\n",
              "2              3                  Martelo                  3.0   5.50\n",
              "3              4           Chave de fenda                  2.5   3.00"
            ],
            "text/html": [
              "\n",
              "  <div id=\"df-4383a379-0aa1-4adc-8f17-197ce4ada62b\">\n",
              "    <div class=\"colab-df-container\">\n",
              "      <div>\n",
              "<style scoped>\n",
              "    .dataframe tbody tr th:only-of-type {\n",
              "        vertical-align: middle;\n",
              "    }\n",
              "\n",
              "    .dataframe tbody tr th {\n",
              "        vertical-align: top;\n",
              "    }\n",
              "\n",
              "    .dataframe thead th {\n",
              "        text-align: right;\n",
              "    }\n",
              "</style>\n",
              "<table border=\"1\" class=\"dataframe\">\n",
              "  <thead>\n",
              "    <tr style=\"text-align: right;\">\n",
              "      <th></th>\n",
              "      <th>ID do produto</th>\n",
              "      <th>Produto</th>\n",
              "      <th>Custo de fabricação</th>\n",
              "      <th>preço</th>\n",
              "    </tr>\n",
              "  </thead>\n",
              "  <tbody>\n",
              "    <tr>\n",
              "      <th>0</th>\n",
              "      <td>1</td>\n",
              "      <td>Parafuso de 3 polegadas</td>\n",
              "      <td>0.5</td>\n",
              "      <td>0.75</td>\n",
              "    </tr>\n",
              "    <tr>\n",
              "      <th>1</th>\n",
              "      <td>2</td>\n",
              "      <td>Prego de duas polegadas</td>\n",
              "      <td>0.1</td>\n",
              "      <td>0.25</td>\n",
              "    </tr>\n",
              "    <tr>\n",
              "      <th>2</th>\n",
              "      <td>3</td>\n",
              "      <td>Martelo</td>\n",
              "      <td>3.0</td>\n",
              "      <td>5.50</td>\n",
              "    </tr>\n",
              "    <tr>\n",
              "      <th>3</th>\n",
              "      <td>4</td>\n",
              "      <td>Chave de fenda</td>\n",
              "      <td>2.5</td>\n",
              "      <td>3.00</td>\n",
              "    </tr>\n",
              "  </tbody>\n",
              "</table>\n",
              "</div>\n",
              "      <button class=\"colab-df-convert\" onclick=\"convertToInteractive('df-4383a379-0aa1-4adc-8f17-197ce4ada62b')\"\n",
              "              title=\"Convert this dataframe to an interactive table.\"\n",
              "              style=\"display:none;\">\n",
              "        \n",
              "  <svg xmlns=\"http://www.w3.org/2000/svg\" height=\"24px\"viewBox=\"0 0 24 24\"\n",
              "       width=\"24px\">\n",
              "    <path d=\"M0 0h24v24H0V0z\" fill=\"none\"/>\n",
              "    <path d=\"M18.56 5.44l.94 2.06.94-2.06 2.06-.94-2.06-.94-.94-2.06-.94 2.06-2.06.94zm-11 1L8.5 8.5l.94-2.06 2.06-.94-2.06-.94L8.5 2.5l-.94 2.06-2.06.94zm10 10l.94 2.06.94-2.06 2.06-.94-2.06-.94-.94-2.06-.94 2.06-2.06.94z\"/><path d=\"M17.41 7.96l-1.37-1.37c-.4-.4-.92-.59-1.43-.59-.52 0-1.04.2-1.43.59L10.3 9.45l-7.72 7.72c-.78.78-.78 2.05 0 2.83L4 21.41c.39.39.9.59 1.41.59.51 0 1.02-.2 1.41-.59l7.78-7.78 2.81-2.81c.8-.78.8-2.07 0-2.86zM5.41 20L4 18.59l7.72-7.72 1.47 1.35L5.41 20z\"/>\n",
              "  </svg>\n",
              "      </button>\n",
              "      \n",
              "  <style>\n",
              "    .colab-df-container {\n",
              "      display:flex;\n",
              "      flex-wrap:wrap;\n",
              "      gap: 12px;\n",
              "    }\n",
              "\n",
              "    .colab-df-convert {\n",
              "      background-color: #E8F0FE;\n",
              "      border: none;\n",
              "      border-radius: 50%;\n",
              "      cursor: pointer;\n",
              "      display: none;\n",
              "      fill: #1967D2;\n",
              "      height: 32px;\n",
              "      padding: 0 0 0 0;\n",
              "      width: 32px;\n",
              "    }\n",
              "\n",
              "    .colab-df-convert:hover {\n",
              "      background-color: #E2EBFA;\n",
              "      box-shadow: 0px 1px 2px rgba(60, 64, 67, 0.3), 0px 1px 3px 1px rgba(60, 64, 67, 0.15);\n",
              "      fill: #174EA6;\n",
              "    }\n",
              "\n",
              "    [theme=dark] .colab-df-convert {\n",
              "      background-color: #3B4455;\n",
              "      fill: #D2E3FC;\n",
              "    }\n",
              "\n",
              "    [theme=dark] .colab-df-convert:hover {\n",
              "      background-color: #434B5C;\n",
              "      box-shadow: 0px 1px 3px 1px rgba(0, 0, 0, 0.15);\n",
              "      filter: drop-shadow(0px 1px 2px rgba(0, 0, 0, 0.3));\n",
              "      fill: #FFFFFF;\n",
              "    }\n",
              "  </style>\n",
              "\n",
              "      <script>\n",
              "        const buttonEl =\n",
              "          document.querySelector('#df-4383a379-0aa1-4adc-8f17-197ce4ada62b button.colab-df-convert');\n",
              "        buttonEl.style.display =\n",
              "          google.colab.kernel.accessAllowed ? 'block' : 'none';\n",
              "\n",
              "        async function convertToInteractive(key) {\n",
              "          const element = document.querySelector('#df-4383a379-0aa1-4adc-8f17-197ce4ada62b');\n",
              "          const dataTable =\n",
              "            await google.colab.kernel.invokeFunction('convertToInteractive',\n",
              "                                                     [key], {});\n",
              "          if (!dataTable) return;\n",
              "\n",
              "          const docLinkHtml = 'Like what you see? Visit the ' +\n",
              "            '<a target=\"_blank\" href=https://colab.research.google.com/notebooks/data_table.ipynb>data table notebook</a>'\n",
              "            + ' to learn more about interactive tables.';\n",
              "          element.innerHTML = '';\n",
              "          dataTable['output_type'] = 'display_data';\n",
              "          await google.colab.output.renderOutput(dataTable, element);\n",
              "          const docLink = document.createElement('div');\n",
              "          docLink.innerHTML = docLinkHtml;\n",
              "          element.appendChild(docLink);\n",
              "        }\n",
              "      </script>\n",
              "    </div>\n",
              "  </div>\n",
              "  "
            ]
          },
          "metadata": {},
          "execution_count": 33
        }
      ],
      "source": [
        "df2 = pd.DataFrame([\n",
        "  [1, 'Parafuso de 3 polegadas', 0.5, 0.75],\n",
        "  [2, 'Prego de duas polegadas', 0.10, 0.25],\n",
        "  [3, 'Martelo', 3.00, 5.50],\n",
        "  [4, 'Chave de fenda', 2.50, 3.00]\n",
        "],\n",
        "  columns=['ID do produto', 'Produto', 'Custo de fabricação', 'preço']\n",
        ")\n",
        "df2"
      ]
    },
    {
      "cell_type": "code",
      "execution_count": null,
      "metadata": {
        "id": "6c6f7b1c",
        "colab": {
          "base_uri": "https://localhost:8080/",
          "height": 175
        },
        "outputId": "d60601a7-de3f-4869-9c79-a740b8df8cd7"
      },
      "outputs": [
        {
          "output_type": "execute_result",
          "data": {
            "text/plain": [
              "   ID do produto                  Produto  Custo de fabricação  preço  margem\n",
              "0              1  Parafuso de 3 polegadas                  0.5   0.75    0.25\n",
              "1              2  Prego de duas polegadas                  0.1   0.25    0.15\n",
              "2              3                  Martelo                  3.0   5.50    2.50\n",
              "3              4           Chave de fenda                  2.5   3.00    0.50"
            ],
            "text/html": [
              "\n",
              "  <div id=\"df-fe3daebf-f953-423c-bf81-cac67e0cbbe6\">\n",
              "    <div class=\"colab-df-container\">\n",
              "      <div>\n",
              "<style scoped>\n",
              "    .dataframe tbody tr th:only-of-type {\n",
              "        vertical-align: middle;\n",
              "    }\n",
              "\n",
              "    .dataframe tbody tr th {\n",
              "        vertical-align: top;\n",
              "    }\n",
              "\n",
              "    .dataframe thead th {\n",
              "        text-align: right;\n",
              "    }\n",
              "</style>\n",
              "<table border=\"1\" class=\"dataframe\">\n",
              "  <thead>\n",
              "    <tr style=\"text-align: right;\">\n",
              "      <th></th>\n",
              "      <th>ID do produto</th>\n",
              "      <th>Produto</th>\n",
              "      <th>Custo de fabricação</th>\n",
              "      <th>preço</th>\n",
              "      <th>margem</th>\n",
              "    </tr>\n",
              "  </thead>\n",
              "  <tbody>\n",
              "    <tr>\n",
              "      <th>0</th>\n",
              "      <td>1</td>\n",
              "      <td>Parafuso de 3 polegadas</td>\n",
              "      <td>0.5</td>\n",
              "      <td>0.75</td>\n",
              "      <td>0.25</td>\n",
              "    </tr>\n",
              "    <tr>\n",
              "      <th>1</th>\n",
              "      <td>2</td>\n",
              "      <td>Prego de duas polegadas</td>\n",
              "      <td>0.1</td>\n",
              "      <td>0.25</td>\n",
              "      <td>0.15</td>\n",
              "    </tr>\n",
              "    <tr>\n",
              "      <th>2</th>\n",
              "      <td>3</td>\n",
              "      <td>Martelo</td>\n",
              "      <td>3.0</td>\n",
              "      <td>5.50</td>\n",
              "      <td>2.50</td>\n",
              "    </tr>\n",
              "    <tr>\n",
              "      <th>3</th>\n",
              "      <td>4</td>\n",
              "      <td>Chave de fenda</td>\n",
              "      <td>2.5</td>\n",
              "      <td>3.00</td>\n",
              "      <td>0.50</td>\n",
              "    </tr>\n",
              "  </tbody>\n",
              "</table>\n",
              "</div>\n",
              "      <button class=\"colab-df-convert\" onclick=\"convertToInteractive('df-fe3daebf-f953-423c-bf81-cac67e0cbbe6')\"\n",
              "              title=\"Convert this dataframe to an interactive table.\"\n",
              "              style=\"display:none;\">\n",
              "        \n",
              "  <svg xmlns=\"http://www.w3.org/2000/svg\" height=\"24px\"viewBox=\"0 0 24 24\"\n",
              "       width=\"24px\">\n",
              "    <path d=\"M0 0h24v24H0V0z\" fill=\"none\"/>\n",
              "    <path d=\"M18.56 5.44l.94 2.06.94-2.06 2.06-.94-2.06-.94-.94-2.06-.94 2.06-2.06.94zm-11 1L8.5 8.5l.94-2.06 2.06-.94-2.06-.94L8.5 2.5l-.94 2.06-2.06.94zm10 10l.94 2.06.94-2.06 2.06-.94-2.06-.94-.94-2.06-.94 2.06-2.06.94z\"/><path d=\"M17.41 7.96l-1.37-1.37c-.4-.4-.92-.59-1.43-.59-.52 0-1.04.2-1.43.59L10.3 9.45l-7.72 7.72c-.78.78-.78 2.05 0 2.83L4 21.41c.39.39.9.59 1.41.59.51 0 1.02-.2 1.41-.59l7.78-7.78 2.81-2.81c.8-.78.8-2.07 0-2.86zM5.41 20L4 18.59l7.72-7.72 1.47 1.35L5.41 20z\"/>\n",
              "  </svg>\n",
              "      </button>\n",
              "      \n",
              "  <style>\n",
              "    .colab-df-container {\n",
              "      display:flex;\n",
              "      flex-wrap:wrap;\n",
              "      gap: 12px;\n",
              "    }\n",
              "\n",
              "    .colab-df-convert {\n",
              "      background-color: #E8F0FE;\n",
              "      border: none;\n",
              "      border-radius: 50%;\n",
              "      cursor: pointer;\n",
              "      display: none;\n",
              "      fill: #1967D2;\n",
              "      height: 32px;\n",
              "      padding: 0 0 0 0;\n",
              "      width: 32px;\n",
              "    }\n",
              "\n",
              "    .colab-df-convert:hover {\n",
              "      background-color: #E2EBFA;\n",
              "      box-shadow: 0px 1px 2px rgba(60, 64, 67, 0.3), 0px 1px 3px 1px rgba(60, 64, 67, 0.15);\n",
              "      fill: #174EA6;\n",
              "    }\n",
              "\n",
              "    [theme=dark] .colab-df-convert {\n",
              "      background-color: #3B4455;\n",
              "      fill: #D2E3FC;\n",
              "    }\n",
              "\n",
              "    [theme=dark] .colab-df-convert:hover {\n",
              "      background-color: #434B5C;\n",
              "      box-shadow: 0px 1px 3px 1px rgba(0, 0, 0, 0.15);\n",
              "      filter: drop-shadow(0px 1px 2px rgba(0, 0, 0, 0.3));\n",
              "      fill: #FFFFFF;\n",
              "    }\n",
              "  </style>\n",
              "\n",
              "      <script>\n",
              "        const buttonEl =\n",
              "          document.querySelector('#df-fe3daebf-f953-423c-bf81-cac67e0cbbe6 button.colab-df-convert');\n",
              "        buttonEl.style.display =\n",
              "          google.colab.kernel.accessAllowed ? 'block' : 'none';\n",
              "\n",
              "        async function convertToInteractive(key) {\n",
              "          const element = document.querySelector('#df-fe3daebf-f953-423c-bf81-cac67e0cbbe6');\n",
              "          const dataTable =\n",
              "            await google.colab.kernel.invokeFunction('convertToInteractive',\n",
              "                                                     [key], {});\n",
              "          if (!dataTable) return;\n",
              "\n",
              "          const docLinkHtml = 'Like what you see? Visit the ' +\n",
              "            '<a target=\"_blank\" href=https://colab.research.google.com/notebooks/data_table.ipynb>data table notebook</a>'\n",
              "            + ' to learn more about interactive tables.';\n",
              "          element.innerHTML = '';\n",
              "          dataTable['output_type'] = 'display_data';\n",
              "          await google.colab.output.renderOutput(dataTable, element);\n",
              "          const docLink = document.createElement('div');\n",
              "          docLink.innerHTML = docLinkHtml;\n",
              "          element.appendChild(docLink);\n",
              "        }\n",
              "      </script>\n",
              "    </div>\n",
              "  </div>\n",
              "  "
            ]
          },
          "metadata": {},
          "execution_count": 34
        }
      ],
      "source": [
        "#7 - Adiciona ao df2 a coluna margem que é a diferença entre o preço e custo de fabricação\n",
        "df2['margem'] = df2['preço'] - df2['Custo de fabricação']\n",
        "df2"
      ]
    },
    {
      "cell_type": "code",
      "execution_count": null,
      "metadata": {
        "id": "c63c33dc",
        "colab": {
          "base_uri": "https://localhost:8080/",
          "height": 175
        },
        "outputId": "3e13bd25-e1ba-4a6f-b97c-7cd965e9e5f1"
      },
      "outputs": [
        {
          "output_type": "execute_result",
          "data": {
            "text/plain": [
              "   ID                Descrição  Custo de fabricação  preço  margem\n",
              "0   1  Parafuso de 3 polegadas                  0.5   0.75    0.25\n",
              "1   2  Prego de duas polegadas                  0.1   0.25    0.15\n",
              "2   3                  Martelo                  3.0   5.50    2.50\n",
              "3   4           Chave de fenda                  2.5   3.00    0.50"
            ],
            "text/html": [
              "\n",
              "  <div id=\"df-93e78ba1-36f0-4e25-907d-9e679ea22292\">\n",
              "    <div class=\"colab-df-container\">\n",
              "      <div>\n",
              "<style scoped>\n",
              "    .dataframe tbody tr th:only-of-type {\n",
              "        vertical-align: middle;\n",
              "    }\n",
              "\n",
              "    .dataframe tbody tr th {\n",
              "        vertical-align: top;\n",
              "    }\n",
              "\n",
              "    .dataframe thead th {\n",
              "        text-align: right;\n",
              "    }\n",
              "</style>\n",
              "<table border=\"1\" class=\"dataframe\">\n",
              "  <thead>\n",
              "    <tr style=\"text-align: right;\">\n",
              "      <th></th>\n",
              "      <th>ID</th>\n",
              "      <th>Descrição</th>\n",
              "      <th>Custo de fabricação</th>\n",
              "      <th>preço</th>\n",
              "      <th>margem</th>\n",
              "    </tr>\n",
              "  </thead>\n",
              "  <tbody>\n",
              "    <tr>\n",
              "      <th>0</th>\n",
              "      <td>1</td>\n",
              "      <td>Parafuso de 3 polegadas</td>\n",
              "      <td>0.5</td>\n",
              "      <td>0.75</td>\n",
              "      <td>0.25</td>\n",
              "    </tr>\n",
              "    <tr>\n",
              "      <th>1</th>\n",
              "      <td>2</td>\n",
              "      <td>Prego de duas polegadas</td>\n",
              "      <td>0.1</td>\n",
              "      <td>0.25</td>\n",
              "      <td>0.15</td>\n",
              "    </tr>\n",
              "    <tr>\n",
              "      <th>2</th>\n",
              "      <td>3</td>\n",
              "      <td>Martelo</td>\n",
              "      <td>3.0</td>\n",
              "      <td>5.50</td>\n",
              "      <td>2.50</td>\n",
              "    </tr>\n",
              "    <tr>\n",
              "      <th>3</th>\n",
              "      <td>4</td>\n",
              "      <td>Chave de fenda</td>\n",
              "      <td>2.5</td>\n",
              "      <td>3.00</td>\n",
              "      <td>0.50</td>\n",
              "    </tr>\n",
              "  </tbody>\n",
              "</table>\n",
              "</div>\n",
              "      <button class=\"colab-df-convert\" onclick=\"convertToInteractive('df-93e78ba1-36f0-4e25-907d-9e679ea22292')\"\n",
              "              title=\"Convert this dataframe to an interactive table.\"\n",
              "              style=\"display:none;\">\n",
              "        \n",
              "  <svg xmlns=\"http://www.w3.org/2000/svg\" height=\"24px\"viewBox=\"0 0 24 24\"\n",
              "       width=\"24px\">\n",
              "    <path d=\"M0 0h24v24H0V0z\" fill=\"none\"/>\n",
              "    <path d=\"M18.56 5.44l.94 2.06.94-2.06 2.06-.94-2.06-.94-.94-2.06-.94 2.06-2.06.94zm-11 1L8.5 8.5l.94-2.06 2.06-.94-2.06-.94L8.5 2.5l-.94 2.06-2.06.94zm10 10l.94 2.06.94-2.06 2.06-.94-2.06-.94-.94-2.06-.94 2.06-2.06.94z\"/><path d=\"M17.41 7.96l-1.37-1.37c-.4-.4-.92-.59-1.43-.59-.52 0-1.04.2-1.43.59L10.3 9.45l-7.72 7.72c-.78.78-.78 2.05 0 2.83L4 21.41c.39.39.9.59 1.41.59.51 0 1.02-.2 1.41-.59l7.78-7.78 2.81-2.81c.8-.78.8-2.07 0-2.86zM5.41 20L4 18.59l7.72-7.72 1.47 1.35L5.41 20z\"/>\n",
              "  </svg>\n",
              "      </button>\n",
              "      \n",
              "  <style>\n",
              "    .colab-df-container {\n",
              "      display:flex;\n",
              "      flex-wrap:wrap;\n",
              "      gap: 12px;\n",
              "    }\n",
              "\n",
              "    .colab-df-convert {\n",
              "      background-color: #E8F0FE;\n",
              "      border: none;\n",
              "      border-radius: 50%;\n",
              "      cursor: pointer;\n",
              "      display: none;\n",
              "      fill: #1967D2;\n",
              "      height: 32px;\n",
              "      padding: 0 0 0 0;\n",
              "      width: 32px;\n",
              "    }\n",
              "\n",
              "    .colab-df-convert:hover {\n",
              "      background-color: #E2EBFA;\n",
              "      box-shadow: 0px 1px 2px rgba(60, 64, 67, 0.3), 0px 1px 3px 1px rgba(60, 64, 67, 0.15);\n",
              "      fill: #174EA6;\n",
              "    }\n",
              "\n",
              "    [theme=dark] .colab-df-convert {\n",
              "      background-color: #3B4455;\n",
              "      fill: #D2E3FC;\n",
              "    }\n",
              "\n",
              "    [theme=dark] .colab-df-convert:hover {\n",
              "      background-color: #434B5C;\n",
              "      box-shadow: 0px 1px 3px 1px rgba(0, 0, 0, 0.15);\n",
              "      filter: drop-shadow(0px 1px 2px rgba(0, 0, 0, 0.3));\n",
              "      fill: #FFFFFF;\n",
              "    }\n",
              "  </style>\n",
              "\n",
              "      <script>\n",
              "        const buttonEl =\n",
              "          document.querySelector('#df-93e78ba1-36f0-4e25-907d-9e679ea22292 button.colab-df-convert');\n",
              "        buttonEl.style.display =\n",
              "          google.colab.kernel.accessAllowed ? 'block' : 'none';\n",
              "\n",
              "        async function convertToInteractive(key) {\n",
              "          const element = document.querySelector('#df-93e78ba1-36f0-4e25-907d-9e679ea22292');\n",
              "          const dataTable =\n",
              "            await google.colab.kernel.invokeFunction('convertToInteractive',\n",
              "                                                     [key], {});\n",
              "          if (!dataTable) return;\n",
              "\n",
              "          const docLinkHtml = 'Like what you see? Visit the ' +\n",
              "            '<a target=\"_blank\" href=https://colab.research.google.com/notebooks/data_table.ipynb>data table notebook</a>'\n",
              "            + ' to learn more about interactive tables.';\n",
              "          element.innerHTML = '';\n",
              "          dataTable['output_type'] = 'display_data';\n",
              "          await google.colab.output.renderOutput(dataTable, element);\n",
              "          const docLink = document.createElement('div');\n",
              "          docLink.innerHTML = docLinkHtml;\n",
              "          element.appendChild(docLink);\n",
              "        }\n",
              "      </script>\n",
              "    </div>\n",
              "  </div>\n",
              "  "
            ]
          },
          "metadata": {},
          "execution_count": 35
        }
      ],
      "source": [
        "#8 - Altere o nome da coluna ID do produto para ID e Produto para Descrição\n",
        "df2.columns = ['ID', 'Descrição', 'Custo de fabricação', 'preço', 'margem']\n",
        "df2"
      ]
    },
    {
      "cell_type": "code",
      "execution_count": null,
      "metadata": {
        "id": "40ade966",
        "colab": {
          "base_uri": "https://localhost:8080/"
        },
        "outputId": "413ea4b7-a882-4865-89fe-04aaa91ba10a"
      },
      "outputs": [
        {
          "output_type": "stream",
          "name": "stdout",
          "text": [
            "      ano  edicao cidade_sede       pais delegacao                   equipe  \\\n",
            "0    1896  Summer      Athina     Brazil       AUS                Australia   \n",
            "1    1896  Summer      Athina  Australia       AUS                Australia   \n",
            "2    1896  Summer      Athina  Australia       AUS                Australia   \n",
            "3    1896  Summer      Athina  Australia       AUS  Australia/Great Britain   \n",
            "4    1896  Summer      Athina  Australia       AUS                Australia   \n",
            "..    ...     ...         ...        ...       ...                      ...   \n",
            "137  1908  Summer      London     Sweden       SWE                   Sweden   \n",
            "138  1908  Summer      London     Sweden       SWE                   Sweden   \n",
            "139  1908  Summer      London     Sweden       SWE                   Sweden   \n",
            "140  1908  Summer      London     Sweden       SWE                   Sweden   \n",
            "141  1908  Summer      London     Sweden       SWE                   Sweden   \n",
            "\n",
            "     id_atleta                     nome_atleta sexo  idade  altura  peso  \\\n",
            "0        35698      Edwin Harold \"Teddy\" Flack    M   22.0     NaN   NaN   \n",
            "1        35698      Edwin Harold \"Teddy\" Flack    M   22.0     NaN   NaN   \n",
            "2        35698      Edwin Harold \"Teddy\" Flack    M   22.0     NaN   NaN   \n",
            "3        35698      Edwin Harold \"Teddy\" Flack    M   22.0     NaN   NaN   \n",
            "4        35698      Edwin Harold \"Teddy\" Flack    M   22.0     NaN   NaN   \n",
            "..         ...                             ...  ...    ...     ...   ...   \n",
            "137      55492  Nils Gustaf Johnsson (-Weidel)    M   18.0     NaN   NaN   \n",
            "138      55494     Rolf Vilhelm Oscar Johnsson    M   18.0     NaN   NaN   \n",
            "139      55813            Gustaf Adolf Jonsson    M   28.0     NaN   NaN   \n",
            "140      55813            Gustaf Adolf Jonsson    M   28.0     NaN   NaN   \n",
            "141      55813            Gustaf Adolf Jonsson    M   28.0     NaN   NaN   \n",
            "\n",
            "        esporte                                             evento medalha  \n",
            "0     Athletics                       Athletics Men's 1,500 metres    Gold  \n",
            "1     Athletics                         Athletics Men's 800 metres    Gold  \n",
            "2     Athletics                           Athletics Men's Marathon     NaN  \n",
            "3        Tennis                               Tennis Men's Doubles  Bronze  \n",
            "4        Tennis                               Tennis Men's Singles     NaN  \n",
            "..          ...                                                ...     ...  \n",
            "137  Gymnastics                   Gymnastics Men's Team All-Around    Gold  \n",
            "138  Gymnastics                   Gymnastics Men's Team All-Around    Gold  \n",
            "139    Shooting  Shooting Men's Free Rifle, Three Positions, 30...     NaN  \n",
            "140    Shooting  Shooting Men's Free Rifle, Three Positions, 30...  Silver  \n",
            "141    Shooting  Shooting Men's Military Rifle, 200/500/600/800...     NaN  \n",
            "\n",
            "[142 rows x 15 columns]\n",
            "    ano  edicao cidade_sede       pais delegacao                   equipe  \\\n",
            "0  1896  Summer      Athina     Brazil       AUS                Australia   \n",
            "1  1896  Summer      Athina  Australia       AUS                Australia   \n",
            "2  1896  Summer      Athina  Australia       AUS                Australia   \n",
            "3  1896  Summer      Athina  Australia       AUS  Australia/Great Britain   \n",
            "4  1896  Summer      Athina  Australia       AUS                Australia   \n",
            "\n",
            "   id_atleta                 nome_atleta sexo  idade  altura  peso    esporte  \\\n",
            "0      35698  Edwin Harold \"Teddy\" Flack    M   22.0     NaN   NaN  Athletics   \n",
            "1      35698  Edwin Harold \"Teddy\" Flack    M   22.0     NaN   NaN  Athletics   \n",
            "2      35698  Edwin Harold \"Teddy\" Flack    M   22.0     NaN   NaN  Athletics   \n",
            "3      35698  Edwin Harold \"Teddy\" Flack    M   22.0     NaN   NaN     Tennis   \n",
            "4      35698  Edwin Harold \"Teddy\" Flack    M   22.0     NaN   NaN     Tennis   \n",
            "\n",
            "                         evento medalha  \n",
            "0  Athletics Men's 1,500 metres    Gold  \n",
            "1    Athletics Men's 800 metres    Gold  \n",
            "2      Athletics Men's Marathon     NaN  \n",
            "3          Tennis Men's Doubles  Bronze  \n",
            "4          Tennis Men's Singles     NaN  \n",
            "<class 'pandas.core.frame.DataFrame'>\n",
            "RangeIndex: 142 entries, 0 to 141\n",
            "Data columns (total 15 columns):\n",
            " #   Column       Non-Null Count  Dtype  \n",
            "---  ------       --------------  -----  \n",
            " 0   ano          142 non-null    int64  \n",
            " 1   edicao       142 non-null    object \n",
            " 2   cidade_sede  142 non-null    object \n",
            " 3   pais         142 non-null    object \n",
            " 4   delegacao    142 non-null    object \n",
            " 5   equipe       142 non-null    object \n",
            " 6   id_atleta    142 non-null    int64  \n",
            " 7   nome_atleta  142 non-null    object \n",
            " 8   sexo         142 non-null    object \n",
            " 9   idade        127 non-null    float64\n",
            " 10  altura       21 non-null     float64\n",
            " 11  peso         27 non-null     float64\n",
            " 12  esporte      142 non-null    object \n",
            " 13  evento       142 non-null    object \n",
            " 14  medalha      54 non-null     object \n",
            "dtypes: float64(3), int64(2), object(10)\n",
            "memory usage: 16.8+ KB\n",
            "None\n",
            "               ano      id_atleta       idade      altura       peso\n",
            "count   142.000000     142.000000  127.000000   21.000000  27.000000\n",
            "mean   1896.845070   65361.429577   23.370079  164.952381  64.962963\n",
            "std       3.081162   30306.380729    4.141933    7.439598   7.842103\n",
            "min    1896.000000   12563.000000   17.000000  154.000000  45.000000\n",
            "25%    1896.000000   35741.000000   21.000000  159.000000  59.000000\n",
            "50%    1896.000000   55493.000000   23.000000  167.000000  70.000000\n",
            "75%    1896.000000   98135.750000   26.000000  167.000000  70.000000\n",
            "max    1908.000000  122526.000000   36.000000  179.000000  76.000000\n"
          ]
        }
      ],
      "source": [
        "#Leia o CSV 'olimpíadas'em uma variável chamada df3.\n",
        "#Examine o DataFrame para entender o conjunto de dados\n",
        "df3 = pd.read_csv('olimpíadas.csv')\n",
        "print(df3)\n",
        "print(df3.head())\n",
        "print(df3.info())\n",
        "print(df3.describe())"
      ]
    },
    {
      "cell_type": "code",
      "execution_count": null,
      "metadata": {
        "id": "812561f5",
        "colab": {
          "base_uri": "https://localhost:8080/",
          "height": 49
        },
        "outputId": "a28ec849-3296-47d7-be2d-dfeecf384313"
      },
      "outputs": [
        {
          "output_type": "execute_result",
          "data": {
            "text/plain": [
              "Empty DataFrame\n",
              "Columns: [ano, edicao, cidade_sede, pais, delegacao, equipe, id_atleta, nome_atleta, sexo, idade, altura, peso, esporte, evento, medalha]\n",
              "Index: []"
            ],
            "text/html": [
              "\n",
              "  <div id=\"df-d5315139-680a-4026-b98e-f48047821198\">\n",
              "    <div class=\"colab-df-container\">\n",
              "      <div>\n",
              "<style scoped>\n",
              "    .dataframe tbody tr th:only-of-type {\n",
              "        vertical-align: middle;\n",
              "    }\n",
              "\n",
              "    .dataframe tbody tr th {\n",
              "        vertical-align: top;\n",
              "    }\n",
              "\n",
              "    .dataframe thead th {\n",
              "        text-align: right;\n",
              "    }\n",
              "</style>\n",
              "<table border=\"1\" class=\"dataframe\">\n",
              "  <thead>\n",
              "    <tr style=\"text-align: right;\">\n",
              "      <th></th>\n",
              "      <th>ano</th>\n",
              "      <th>edicao</th>\n",
              "      <th>cidade_sede</th>\n",
              "      <th>pais</th>\n",
              "      <th>delegacao</th>\n",
              "      <th>equipe</th>\n",
              "      <th>id_atleta</th>\n",
              "      <th>nome_atleta</th>\n",
              "      <th>sexo</th>\n",
              "      <th>idade</th>\n",
              "      <th>altura</th>\n",
              "      <th>peso</th>\n",
              "      <th>esporte</th>\n",
              "      <th>evento</th>\n",
              "      <th>medalha</th>\n",
              "    </tr>\n",
              "  </thead>\n",
              "  <tbody>\n",
              "  </tbody>\n",
              "</table>\n",
              "</div>\n",
              "      <button class=\"colab-df-convert\" onclick=\"convertToInteractive('df-d5315139-680a-4026-b98e-f48047821198')\"\n",
              "              title=\"Convert this dataframe to an interactive table.\"\n",
              "              style=\"display:none;\">\n",
              "        \n",
              "  <svg xmlns=\"http://www.w3.org/2000/svg\" height=\"24px\"viewBox=\"0 0 24 24\"\n",
              "       width=\"24px\">\n",
              "    <path d=\"M0 0h24v24H0V0z\" fill=\"none\"/>\n",
              "    <path d=\"M18.56 5.44l.94 2.06.94-2.06 2.06-.94-2.06-.94-.94-2.06-.94 2.06-2.06.94zm-11 1L8.5 8.5l.94-2.06 2.06-.94-2.06-.94L8.5 2.5l-.94 2.06-2.06.94zm10 10l.94 2.06.94-2.06 2.06-.94-2.06-.94-.94-2.06-.94 2.06-2.06.94z\"/><path d=\"M17.41 7.96l-1.37-1.37c-.4-.4-.92-.59-1.43-.59-.52 0-1.04.2-1.43.59L10.3 9.45l-7.72 7.72c-.78.78-.78 2.05 0 2.83L4 21.41c.39.39.9.59 1.41.59.51 0 1.02-.2 1.41-.59l7.78-7.78 2.81-2.81c.8-.78.8-2.07 0-2.86zM5.41 20L4 18.59l7.72-7.72 1.47 1.35L5.41 20z\"/>\n",
              "  </svg>\n",
              "      </button>\n",
              "      \n",
              "  <style>\n",
              "    .colab-df-container {\n",
              "      display:flex;\n",
              "      flex-wrap:wrap;\n",
              "      gap: 12px;\n",
              "    }\n",
              "\n",
              "    .colab-df-convert {\n",
              "      background-color: #E8F0FE;\n",
              "      border: none;\n",
              "      border-radius: 50%;\n",
              "      cursor: pointer;\n",
              "      display: none;\n",
              "      fill: #1967D2;\n",
              "      height: 32px;\n",
              "      padding: 0 0 0 0;\n",
              "      width: 32px;\n",
              "    }\n",
              "\n",
              "    .colab-df-convert:hover {\n",
              "      background-color: #E2EBFA;\n",
              "      box-shadow: 0px 1px 2px rgba(60, 64, 67, 0.3), 0px 1px 3px 1px rgba(60, 64, 67, 0.15);\n",
              "      fill: #174EA6;\n",
              "    }\n",
              "\n",
              "    [theme=dark] .colab-df-convert {\n",
              "      background-color: #3B4455;\n",
              "      fill: #D2E3FC;\n",
              "    }\n",
              "\n",
              "    [theme=dark] .colab-df-convert:hover {\n",
              "      background-color: #434B5C;\n",
              "      box-shadow: 0px 1px 3px 1px rgba(0, 0, 0, 0.15);\n",
              "      filter: drop-shadow(0px 1px 2px rgba(0, 0, 0, 0.3));\n",
              "      fill: #FFFFFF;\n",
              "    }\n",
              "  </style>\n",
              "\n",
              "      <script>\n",
              "        const buttonEl =\n",
              "          document.querySelector('#df-d5315139-680a-4026-b98e-f48047821198 button.colab-df-convert');\n",
              "        buttonEl.style.display =\n",
              "          google.colab.kernel.accessAllowed ? 'block' : 'none';\n",
              "\n",
              "        async function convertToInteractive(key) {\n",
              "          const element = document.querySelector('#df-d5315139-680a-4026-b98e-f48047821198');\n",
              "          const dataTable =\n",
              "            await google.colab.kernel.invokeFunction('convertToInteractive',\n",
              "                                                     [key], {});\n",
              "          if (!dataTable) return;\n",
              "\n",
              "          const docLinkHtml = 'Like what you see? Visit the ' +\n",
              "            '<a target=\"_blank\" href=https://colab.research.google.com/notebooks/data_table.ipynb>data table notebook</a>'\n",
              "            + ' to learn more about interactive tables.';\n",
              "          element.innerHTML = '';\n",
              "          dataTable['output_type'] = 'display_data';\n",
              "          await google.colab.output.renderOutput(dataTable, element);\n",
              "          const docLink = document.createElement('div');\n",
              "          docLink.innerHTML = docLinkHtml;\n",
              "          element.appendChild(docLink);\n",
              "        }\n",
              "      </script>\n",
              "    </div>\n",
              "  </div>\n",
              "  "
            ]
          },
          "metadata": {},
          "execution_count": 37
        }
      ],
      "source": [
        "#9 - Escreva um comando que mostre o nome dos atletas brasileiros com mais de 30 anos e do sexo masculino que participaram\n",
        "#das olimpíadas a partir de 2012\n",
        "df3[(df3.pais == 'Brazil') & (df3.idade > 30) & (df3.ano >= 2012) & (df3.sexo == 'M')]"
      ]
    },
    {
      "cell_type": "code",
      "execution_count": null,
      "metadata": {
        "id": "c71ebcbd",
        "colab": {
          "base_uri": "https://localhost:8080/"
        },
        "outputId": "d17fbb33-3b97-439c-8e42-996a4acbea7c"
      },
      "outputs": [
        {
          "output_type": "stream",
          "name": "stdout",
          "text": [
            "22.0\n"
          ]
        }
      ],
      "source": [
        "#10 - Crie uma variável media_idade que contenha a média de idade dos atletas brasileiros\n",
        "#Depois de criar a variável de o comando print(media_idade)\n",
        "result = df3[df3.pais == 'Brazil']\n",
        "media_idade = np.mean(result['idade'])\n",
        "print(media_idade)"
      ]
    },
    {
      "cell_type": "code",
      "execution_count": null,
      "metadata": {
        "id": "21814506",
        "colab": {
          "base_uri": "https://localhost:8080/"
        },
        "outputId": "4b91e726-cc6f-480b-fa45-d9011749be99"
      },
      "outputs": [
        {
          "output_type": "execute_result",
          "data": {
            "text/plain": [
              "nome_atleta    Edwin Harold \"Teddy\" Flack\n",
              "idade                                22.0\n",
              "ano                                  1896\n",
              "Name: 0, dtype: object"
            ]
          },
          "metadata": {},
          "execution_count": 39
        }
      ],
      "source": [
        "#11 - Escreva um comando que mostre o nome, idade e ano de participação do atleta brasileiro mais velho\n",
        "#que participou dos jogos olimpícos\n",
        "result = df3[df3.pais == 'Brazil'].reset_index()\n",
        "result = result.iloc[result['idade'].idxmax()]\n",
        "result = result[['nome_atleta','idade','ano']]\n",
        "result"
      ]
    },
    {
      "cell_type": "code",
      "execution_count": null,
      "metadata": {
        "id": "b9e56062",
        "colab": {
          "base_uri": "https://localhost:8080/"
        },
        "outputId": "0ee1a99c-c290-496c-ddcf-c6037acd8fc0"
      },
      "outputs": [
        {
          "output_type": "execute_result",
          "data": {
            "text/plain": [
              "nome_atleta    Edwin Harold \"Teddy\" Flack\n",
              "idade                                22.0\n",
              "ano                                  1896\n",
              "Name: 0, dtype: object"
            ]
          },
          "metadata": {},
          "execution_count": 40
        }
      ],
      "source": [
        "#12 - Escreva um comando que mostre o nome, o ano e idade do atleta brasileiro mais jovem a ganhar uma medalha de ouro.\n",
        "result = df3[(df3.pais == 'Brazil') & (df3.medalha == 'Gold')].reset_index()\n",
        "result = result.iloc[result['idade'].idxmin()]\n",
        "result = result[['nome_atleta','idade','ano']]\n",
        "result"
      ]
    },
    {
      "cell_type": "code",
      "execution_count": null,
      "metadata": {
        "id": "9ffc4b44",
        "colab": {
          "base_uri": "https://localhost:8080/"
        },
        "outputId": "8f068a18-1253-43e4-853d-4fa783ee3771"
      },
      "outputs": [
        {
          "output_type": "stream",
          "name": "stdout",
          "text": [
            "pais\n",
            "Australia     2\n",
            "Austria       5\n",
            "Brazil        1\n",
            "Denmark       6\n",
            "France       11\n",
            "Germany      24\n",
            "Sweden        5\n",
            "Name: medalha, dtype: int64\n"
          ]
        }
      ],
      "source": [
        "#13 - Crie uma variável total_pais que contenha o total de medalhas por pais\n",
        "#Depois de criar a variável de o comando print(total_pais)\n",
        "total_pais = (df3.groupby(['pais']).count())['medalha']\n",
        "print(total_pais)"
      ]
    },
    {
      "cell_type": "code",
      "execution_count": null,
      "metadata": {
        "id": "cf68ec52",
        "colab": {
          "base_uri": "https://localhost:8080/"
        },
        "outputId": "e3bc5132-88e3-4fcc-96b9-1cc757f3e940"
      },
      "outputs": [
        {
          "output_type": "stream",
          "name": "stdout",
          "text": [
            "action\n",
            "comedy\n",
            "drama\n",
            "horror\n",
            "romance\n"
          ]
        }
      ],
      "source": [
        "#Voltando ao primeiro DataFrame sobre filmes\n",
        "#14 - Escreva um comando que mostre quais o generos de filmes estão disponíveis no DataFrame.\n",
        "#Obs: Não é só mostrar a coluna gênero\n",
        "for x in df.groupby(['genero']).groups.keys():\n",
        "  print(x)"
      ]
    },
    {
      "cell_type": "code",
      "execution_count": null,
      "metadata": {
        "id": "7d473638",
        "colab": {
          "base_uri": "https://localhost:8080/"
        },
        "outputId": "f365f0b8-7c61-43b7-f127-0566913f55e0"
      },
      "outputs": [
        {
          "output_type": "stream",
          "name": "stdout",
          "text": [
            "        nota_imdb\n",
            "ano              \n",
            "1937.0   7.700000\n",
            "1939.0   8.200000\n",
            "1965.0   8.000000\n",
            "1975.0   8.100000\n",
            "1977.0   8.700000\n",
            "1978.0   5.700000\n",
            "1979.0   6.150000\n",
            "1980.0   8.800000\n",
            "1982.0   7.400000\n",
            "1983.0   8.400000\n",
            "1984.0   7.433333\n",
            "1985.0   8.500000\n",
            "1986.0   7.600000\n",
            "1987.0   5.900000\n",
            "1988.0   8.000000\n",
            "1989.0   6.700000\n",
            "1990.0   7.325000\n",
            "1991.0   7.450000\n",
            "1992.0   7.750000\n",
            "1993.0   6.900000\n",
            "1994.0   7.775000\n",
            "1995.0   7.600000\n",
            "1996.0   6.925000\n",
            "1997.0   6.487500\n",
            "1998.0   7.600000\n",
            "1999.0   6.609091\n",
            "2000.0   6.728571\n",
            "2001.0   6.825000\n",
            "2002.0   6.912500\n",
            "2003.0   7.014286\n",
            "2004.0   6.485714\n",
            "2005.0   6.750000\n",
            "2006.0   6.712500\n",
            "2007.0   6.781818\n",
            "2008.0   7.000000\n",
            "2009.0   6.678571\n",
            "2010.0   6.927273\n",
            "2011.0   6.820000\n",
            "2012.0   7.166667\n",
            "2013.0   7.078571\n",
            "2014.0   7.415385\n",
            "2015.0   7.028571\n"
          ]
        }
      ],
      "source": [
        "#15 - Escreva um comando que apresente a média das notas dos filmes por ano.\n",
        "print(df.groupby(['ano']).mean())"
      ]
    },
    {
      "cell_type": "markdown",
      "source": [
        "###Exercício 2"
      ],
      "metadata": {
        "id": "TpzxNtzHbCEz"
      }
    },
    {
      "cell_type": "code",
      "execution_count": null,
      "metadata": {
        "id": "1fad3637"
      },
      "outputs": [],
      "source": [
        "#1 - Existem duas lojas de hardware na cidade: Loja A e Loja B. O estoque da Loja A está no DataFrame estoqueA \n",
        "#e o estoque da Loja B está no DataFrame estoqueB. Eles decidiram se fundir em uma grande Super Store!\n",
        "#Combine os estoques da Loja A e da Loja B. Salve os resultados na variável estoqueAeB.\n",
        "estoqueA = pd.read_csv('estoqueA.csv')\n",
        "estoqueB = pd.read_csv('estoqueB.csv')\n",
        "estoqueAeB = pd.concat([estoqueA,estoqueB])"
      ]
    },
    {
      "cell_type": "code",
      "execution_count": null,
      "metadata": {
        "id": "71af3199",
        "colab": {
          "base_uri": "https://localhost:8080/"
        },
        "outputId": "a75daaaa-405b-4ac0-a2b4-a606cd247694"
      },
      "outputs": [
        {
          "output_type": "stream",
          "name": "stdout",
          "text": [
            "            item  quantidade_estoque_A  quantidade_estoque_B\n",
            "0         hammer                  12.0                   NaN\n",
            "1    screwdriver                  15.0                   NaN\n",
            "2          nails                 200.0                   NaN\n",
            "3         screws                 350.0                   NaN\n",
            "4            saw                   6.0                   NaN\n",
            "5      duct tape                 150.0                   NaN\n",
            "6         wrench                  12.0                   NaN\n",
            "7       pvc pipe                  54.0                   NaN\n",
            "0         hammer                   NaN                   6.0\n",
            "1          nails                   NaN                 250.0\n",
            "2            saw                   NaN                   6.0\n",
            "3      duct tape                   NaN                 150.0\n",
            "4       pvc pipe                   NaN                  54.0\n",
            "5           rake                   NaN                  10.0\n",
            "6         shovel                   NaN                  15.0\n",
            "7  wooden dowels                   NaN                 192.0\n",
            "            item  quantidade_estoque_A  quantidade_estoque_B\n",
            "0         hammer                  12.0                   0.0\n",
            "1    screwdriver                  15.0                   0.0\n",
            "2          nails                 200.0                   0.0\n",
            "3         screws                 350.0                   0.0\n",
            "4            saw                   6.0                   0.0\n",
            "5      duct tape                 150.0                   0.0\n",
            "6         wrench                  12.0                   0.0\n",
            "7       pvc pipe                  54.0                   0.0\n",
            "0         hammer                   0.0                   6.0\n",
            "1          nails                   0.0                 250.0\n",
            "2            saw                   0.0                   6.0\n",
            "3      duct tape                   0.0                 150.0\n",
            "4       pvc pipe                   0.0                  54.0\n",
            "5           rake                   0.0                  10.0\n",
            "6         shovel                   0.0                  15.0\n",
            "7  wooden dowels                   0.0                 192.0\n"
          ]
        }
      ],
      "source": [
        "#Print a variável estoqueAeB e observe a quantidade de valores NaN\n",
        "#2 - Substitua os valores NaN por 0\n",
        "print(estoqueAeB)\n",
        "estoqueAeB.fillna(0,inplace=True)\n",
        "print(estoqueAeB)"
      ]
    },
    {
      "cell_type": "code",
      "execution_count": null,
      "metadata": {
        "id": "0151a250",
        "colab": {
          "base_uri": "https://localhost:8080/"
        },
        "outputId": "2d5e179f-e422-4466-cd4c-a56ee4afbdb4"
      },
      "outputs": [
        {
          "output_type": "stream",
          "name": "stdout",
          "text": [
            "            item  quantidade_estoque_A  quantidade_estoque_B\n",
            "2          nails                 200.0                   0.0\n",
            "3         screws                 350.0                   0.0\n",
            "5      duct tape                 150.0                   0.0\n",
            "1          nails                   0.0                 250.0\n",
            "3      duct tape                   0.0                 150.0\n",
            "7  wooden dowels                   0.0                 192.0\n"
          ]
        }
      ],
      "source": [
        "#3 - Selecione as linhas de estoqueAeB onde a quantidade em estoque de um item seja maior que 100.\n",
        "result = estoqueAeB[(estoqueAeB.quantidade_estoque_A > 100) | (estoqueAeB.quantidade_estoque_B > 100)]\n",
        "print(result)"
      ]
    },
    {
      "cell_type": "code",
      "execution_count": null,
      "metadata": {
        "id": "e6377b2f",
        "colab": {
          "base_uri": "https://localhost:8080/"
        },
        "outputId": "71c8752a-9efc-47ff-9aa0-5b982490153c"
      },
      "outputs": [
        {
          "output_type": "stream",
          "name": "stdout",
          "text": [
            "            item  quantidade_estoque_A  quantidade_estoque_B  estoque_total\n",
            "0         hammer                  12.0                   0.0           12.0\n",
            "1    screwdriver                  15.0                   0.0           15.0\n",
            "2          nails                 200.0                   0.0          200.0\n",
            "3         screws                 350.0                   0.0          350.0\n",
            "4            saw                   6.0                   0.0            6.0\n",
            "5      duct tape                 150.0                   0.0          150.0\n",
            "6         wrench                  12.0                   0.0           12.0\n",
            "7       pvc pipe                  54.0                   0.0           54.0\n",
            "0         hammer                   0.0                   6.0            6.0\n",
            "1          nails                   0.0                 250.0          250.0\n",
            "2            saw                   0.0                   6.0            6.0\n",
            "3      duct tape                   0.0                 150.0          150.0\n",
            "4       pvc pipe                   0.0                  54.0           54.0\n",
            "5           rake                   0.0                  10.0           10.0\n",
            "6         shovel                   0.0                  15.0           15.0\n",
            "7  wooden dowels                   0.0                 192.0          192.0\n"
          ]
        }
      ],
      "source": [
        "#4 - Adicione a coluna estoque_total com a soma da quantidade no estoqueA com a quantidade no estoqueB\n",
        "estoqueAeB['estoque_total'] = estoqueAeB['quantidade_estoque_A'] + estoqueAeB['quantidade_estoque_B']\n",
        "print(estoqueAeB)"
      ]
    },
    {
      "cell_type": "code",
      "execution_count": null,
      "metadata": {
        "id": "77a6a4d1",
        "colab": {
          "base_uri": "https://localhost:8080/",
          "height": 424
        },
        "outputId": "ae54bd6e-c7fc-466a-824d-d8965c14acdf"
      },
      "outputs": [
        {
          "output_type": "execute_result",
          "data": {
            "text/plain": [
              "     Unnamed: 0          full_name gender_age Fractions Probability  \\\n",
              "0             0     Barrett Feragh        M14       76%         72%   \n",
              "1             1    Llewellyn Keech        M14       83%         87%   \n",
              "2             2  Delilah Sowthcote        F16       90%         79%   \n",
              "3             3       Terrell Geri        M15       80%         86%   \n",
              "4             4     Gram Hallewell        M14       67%         78%   \n",
              "..          ...                ...        ...       ...         ...   \n",
              "895          95      Massimo Babbs        M16       84%         83%   \n",
              "896          96     Garrek Manuely        M14       70%         85%   \n",
              "897          97   Winslow Lilliman        M15       81%         83%   \n",
              "898          98      Grantham Yate        M15       77%         87%   \n",
              "899          99    Dennie Chopping        M16       81%         83%   \n",
              "\n",
              "          grade  \n",
              "0     9th grade  \n",
              "1    12th grade  \n",
              "2    10th grade  \n",
              "3    11th grade  \n",
              "4    10th grade  \n",
              "..          ...  \n",
              "895  11th grade  \n",
              "896   9th grade  \n",
              "897  11th grade  \n",
              "898  10th grade  \n",
              "899   9th grade  \n",
              "\n",
              "[900 rows x 6 columns]"
            ],
            "text/html": [
              "\n",
              "  <div id=\"df-33a9262a-21a3-4c03-bb66-ba8e56f13325\">\n",
              "    <div class=\"colab-df-container\">\n",
              "      <div>\n",
              "<style scoped>\n",
              "    .dataframe tbody tr th:only-of-type {\n",
              "        vertical-align: middle;\n",
              "    }\n",
              "\n",
              "    .dataframe tbody tr th {\n",
              "        vertical-align: top;\n",
              "    }\n",
              "\n",
              "    .dataframe thead th {\n",
              "        text-align: right;\n",
              "    }\n",
              "</style>\n",
              "<table border=\"1\" class=\"dataframe\">\n",
              "  <thead>\n",
              "    <tr style=\"text-align: right;\">\n",
              "      <th></th>\n",
              "      <th>Unnamed: 0</th>\n",
              "      <th>full_name</th>\n",
              "      <th>gender_age</th>\n",
              "      <th>Fractions</th>\n",
              "      <th>Probability</th>\n",
              "      <th>grade</th>\n",
              "    </tr>\n",
              "  </thead>\n",
              "  <tbody>\n",
              "    <tr>\n",
              "      <th>0</th>\n",
              "      <td>0</td>\n",
              "      <td>Barrett Feragh</td>\n",
              "      <td>M14</td>\n",
              "      <td>76%</td>\n",
              "      <td>72%</td>\n",
              "      <td>9th grade</td>\n",
              "    </tr>\n",
              "    <tr>\n",
              "      <th>1</th>\n",
              "      <td>1</td>\n",
              "      <td>Llewellyn Keech</td>\n",
              "      <td>M14</td>\n",
              "      <td>83%</td>\n",
              "      <td>87%</td>\n",
              "      <td>12th grade</td>\n",
              "    </tr>\n",
              "    <tr>\n",
              "      <th>2</th>\n",
              "      <td>2</td>\n",
              "      <td>Delilah Sowthcote</td>\n",
              "      <td>F16</td>\n",
              "      <td>90%</td>\n",
              "      <td>79%</td>\n",
              "      <td>10th grade</td>\n",
              "    </tr>\n",
              "    <tr>\n",
              "      <th>3</th>\n",
              "      <td>3</td>\n",
              "      <td>Terrell Geri</td>\n",
              "      <td>M15</td>\n",
              "      <td>80%</td>\n",
              "      <td>86%</td>\n",
              "      <td>11th grade</td>\n",
              "    </tr>\n",
              "    <tr>\n",
              "      <th>4</th>\n",
              "      <td>4</td>\n",
              "      <td>Gram Hallewell</td>\n",
              "      <td>M14</td>\n",
              "      <td>67%</td>\n",
              "      <td>78%</td>\n",
              "      <td>10th grade</td>\n",
              "    </tr>\n",
              "    <tr>\n",
              "      <th>...</th>\n",
              "      <td>...</td>\n",
              "      <td>...</td>\n",
              "      <td>...</td>\n",
              "      <td>...</td>\n",
              "      <td>...</td>\n",
              "      <td>...</td>\n",
              "    </tr>\n",
              "    <tr>\n",
              "      <th>895</th>\n",
              "      <td>95</td>\n",
              "      <td>Massimo Babbs</td>\n",
              "      <td>M16</td>\n",
              "      <td>84%</td>\n",
              "      <td>83%</td>\n",
              "      <td>11th grade</td>\n",
              "    </tr>\n",
              "    <tr>\n",
              "      <th>896</th>\n",
              "      <td>96</td>\n",
              "      <td>Garrek Manuely</td>\n",
              "      <td>M14</td>\n",
              "      <td>70%</td>\n",
              "      <td>85%</td>\n",
              "      <td>9th grade</td>\n",
              "    </tr>\n",
              "    <tr>\n",
              "      <th>897</th>\n",
              "      <td>97</td>\n",
              "      <td>Winslow Lilliman</td>\n",
              "      <td>M15</td>\n",
              "      <td>81%</td>\n",
              "      <td>83%</td>\n",
              "      <td>11th grade</td>\n",
              "    </tr>\n",
              "    <tr>\n",
              "      <th>898</th>\n",
              "      <td>98</td>\n",
              "      <td>Grantham Yate</td>\n",
              "      <td>M15</td>\n",
              "      <td>77%</td>\n",
              "      <td>87%</td>\n",
              "      <td>10th grade</td>\n",
              "    </tr>\n",
              "    <tr>\n",
              "      <th>899</th>\n",
              "      <td>99</td>\n",
              "      <td>Dennie Chopping</td>\n",
              "      <td>M16</td>\n",
              "      <td>81%</td>\n",
              "      <td>83%</td>\n",
              "      <td>9th grade</td>\n",
              "    </tr>\n",
              "  </tbody>\n",
              "</table>\n",
              "<p>900 rows × 6 columns</p>\n",
              "</div>\n",
              "      <button class=\"colab-df-convert\" onclick=\"convertToInteractive('df-33a9262a-21a3-4c03-bb66-ba8e56f13325')\"\n",
              "              title=\"Convert this dataframe to an interactive table.\"\n",
              "              style=\"display:none;\">\n",
              "        \n",
              "  <svg xmlns=\"http://www.w3.org/2000/svg\" height=\"24px\"viewBox=\"0 0 24 24\"\n",
              "       width=\"24px\">\n",
              "    <path d=\"M0 0h24v24H0V0z\" fill=\"none\"/>\n",
              "    <path d=\"M18.56 5.44l.94 2.06.94-2.06 2.06-.94-2.06-.94-.94-2.06-.94 2.06-2.06.94zm-11 1L8.5 8.5l.94-2.06 2.06-.94-2.06-.94L8.5 2.5l-.94 2.06-2.06.94zm10 10l.94 2.06.94-2.06 2.06-.94-2.06-.94-.94-2.06-.94 2.06-2.06.94z\"/><path d=\"M17.41 7.96l-1.37-1.37c-.4-.4-.92-.59-1.43-.59-.52 0-1.04.2-1.43.59L10.3 9.45l-7.72 7.72c-.78.78-.78 2.05 0 2.83L4 21.41c.39.39.9.59 1.41.59.51 0 1.02-.2 1.41-.59l7.78-7.78 2.81-2.81c.8-.78.8-2.07 0-2.86zM5.41 20L4 18.59l7.72-7.72 1.47 1.35L5.41 20z\"/>\n",
              "  </svg>\n",
              "      </button>\n",
              "      \n",
              "  <style>\n",
              "    .colab-df-container {\n",
              "      display:flex;\n",
              "      flex-wrap:wrap;\n",
              "      gap: 12px;\n",
              "    }\n",
              "\n",
              "    .colab-df-convert {\n",
              "      background-color: #E8F0FE;\n",
              "      border: none;\n",
              "      border-radius: 50%;\n",
              "      cursor: pointer;\n",
              "      display: none;\n",
              "      fill: #1967D2;\n",
              "      height: 32px;\n",
              "      padding: 0 0 0 0;\n",
              "      width: 32px;\n",
              "    }\n",
              "\n",
              "    .colab-df-convert:hover {\n",
              "      background-color: #E2EBFA;\n",
              "      box-shadow: 0px 1px 2px rgba(60, 64, 67, 0.3), 0px 1px 3px 1px rgba(60, 64, 67, 0.15);\n",
              "      fill: #174EA6;\n",
              "    }\n",
              "\n",
              "    [theme=dark] .colab-df-convert {\n",
              "      background-color: #3B4455;\n",
              "      fill: #D2E3FC;\n",
              "    }\n",
              "\n",
              "    [theme=dark] .colab-df-convert:hover {\n",
              "      background-color: #434B5C;\n",
              "      box-shadow: 0px 1px 3px 1px rgba(0, 0, 0, 0.15);\n",
              "      filter: drop-shadow(0px 1px 2px rgba(0, 0, 0, 0.3));\n",
              "      fill: #FFFFFF;\n",
              "    }\n",
              "  </style>\n",
              "\n",
              "      <script>\n",
              "        const buttonEl =\n",
              "          document.querySelector('#df-33a9262a-21a3-4c03-bb66-ba8e56f13325 button.colab-df-convert');\n",
              "        buttonEl.style.display =\n",
              "          google.colab.kernel.accessAllowed ? 'block' : 'none';\n",
              "\n",
              "        async function convertToInteractive(key) {\n",
              "          const element = document.querySelector('#df-33a9262a-21a3-4c03-bb66-ba8e56f13325');\n",
              "          const dataTable =\n",
              "            await google.colab.kernel.invokeFunction('convertToInteractive',\n",
              "                                                     [key], {});\n",
              "          if (!dataTable) return;\n",
              "\n",
              "          const docLinkHtml = 'Like what you see? Visit the ' +\n",
              "            '<a target=\"_blank\" href=https://colab.research.google.com/notebooks/data_table.ipynb>data table notebook</a>'\n",
              "            + ' to learn more about interactive tables.';\n",
              "          element.innerHTML = '';\n",
              "          dataTable['output_type'] = 'display_data';\n",
              "          await google.colab.output.renderOutput(dataTable, element);\n",
              "          const docLink = document.createElement('div');\n",
              "          docLink.innerHTML = docLinkHtml;\n",
              "          element.appendChild(docLink);\n",
              "        }\n",
              "      </script>\n",
              "    </div>\n",
              "  </div>\n",
              "  "
            ]
          },
          "metadata": {},
          "execution_count": 48
        }
      ],
      "source": [
        "#5 - Combine todos os CSVs que começam com a palavra arquivo em um único DataFrame\n",
        "files_location = r\"/content\"\n",
        "estudantes = pd.DataFrame()\n",
        "estudantes = pd.concat(map(pd.read_csv,glob.glob(os.path.join(files_location,'arquivo*.csv'))), ignore_index= True)\n",
        "estudantes"
      ]
    },
    {
      "cell_type": "code",
      "execution_count": null,
      "metadata": {
        "id": "aea94ad7",
        "colab": {
          "base_uri": "https://localhost:8080/"
        },
        "outputId": "d1012f0e-7096-4c83-d8a8-984856f26547"
      },
      "outputs": [
        {
          "output_type": "execute_result",
          "data": {
            "text/plain": [
              "0      False\n",
              "1      False\n",
              "2      False\n",
              "3      False\n",
              "4      False\n",
              "       ...  \n",
              "895    False\n",
              "896    False\n",
              "897    False\n",
              "898    False\n",
              "899    False\n",
              "Length: 900, dtype: bool"
            ]
          },
          "metadata": {},
          "execution_count": 49
        }
      ],
      "source": [
        "#6 Verique se o DataFrame estudantes possui algum registro duplicado\n",
        "estudantes.duplicated()"
      ]
    },
    {
      "cell_type": "code",
      "execution_count": null,
      "metadata": {
        "id": "3e123cff",
        "colab": {
          "base_uri": "https://localhost:8080/"
        },
        "outputId": "0ec85fa7-bf4e-42a8-a70b-6021ec98efba"
      },
      "outputs": [
        {
          "output_type": "stream",
          "name": "stdout",
          "text": [
            "   Unnamed: 0          full_name gender_age Fractions Probability       grade\n",
            "0           0     Barrett Feragh        M14       76%         72%   9th grade\n",
            "1           1    Llewellyn Keech        M14       83%         87%  12th grade\n",
            "2           2  Delilah Sowthcote        F16       90%         79%  10th grade\n",
            "3           3       Terrell Geri        M15       80%         86%  11th grade\n",
            "4           4     Gram Hallewell        M14       67%         78%  10th grade\n",
            "<class 'pandas.core.frame.DataFrame'>\n",
            "RangeIndex: 900 entries, 0 to 899\n",
            "Data columns (total 6 columns):\n",
            " #   Column       Non-Null Count  Dtype \n",
            "---  ------       --------------  ----- \n",
            " 0   Unnamed: 0   900 non-null    int64 \n",
            " 1   full_name    900 non-null    object\n",
            " 2   gender_age   900 non-null    object\n",
            " 3   Fractions    900 non-null    object\n",
            " 4   Probability  900 non-null    object\n",
            " 5   grade        900 non-null    object\n",
            "dtypes: int64(1), object(5)\n",
            "memory usage: 42.3+ KB\n",
            "None\n",
            "       Unnamed: 0\n",
            "count   900.00000\n",
            "mean     49.50000\n",
            "std      28.88212\n",
            "min       0.00000\n",
            "25%      24.75000\n",
            "50%      49.50000\n",
            "75%      74.25000\n",
            "max      99.00000\n",
            "   Unnamed: 0          full_name gender_age Fractions Probability       grade  \\\n",
            "0           0     Barrett Feragh        M14       76%         72%   9th grade   \n",
            "1           1    Llewellyn Keech        M14       83%         87%  12th grade   \n",
            "2           2  Delilah Sowthcote        F16       90%         79%  10th grade   \n",
            "3           3       Terrell Geri        M15       80%         86%  11th grade   \n",
            "4           4     Gram Hallewell        M14       67%         78%  10th grade   \n",
            "\n",
            "  gender age  \n",
            "0      M  14  \n",
            "1      M  14  \n",
            "2      F  16  \n",
            "3      M  15  \n",
            "4      M  14  \n"
          ]
        }
      ],
      "source": [
        "#Inspecione o DataFrame estudantes para conhecer os dados e colunas\n",
        "#7- A coluna gender_age possui duas informações gênero e idade, divida essa coluna em duas novas, gênero e idade\n",
        "#Imprima o .head()  para ver como fica o DataFrame após a criação das novas colunas.\n",
        "print(estudantes.head())\n",
        "print(estudantes.info())\n",
        "print(estudantes.describe())\n",
        "\n",
        "genders = []\n",
        "ages = []\n",
        "for index, row in estudantes.iterrows():\n",
        "  genders.append((estudantes['gender_age'].iloc[index])[0])\n",
        "  ages.append((estudantes['gender_age'].iloc[index])[1 : : ])\n",
        "estudantes['gender'] = genders\n",
        "estudantes['age'] = ages\n",
        "print(estudantes.head())"
      ]
    }
  ]
}