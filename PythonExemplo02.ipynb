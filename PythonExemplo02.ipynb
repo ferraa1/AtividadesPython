{
  "nbformat": 4,
  "nbformat_minor": 0,
  "metadata": {
    "colab": {
      "provenance": [],
      "collapsed_sections": [
        "N1nBKyf-hCbx"
      ],
      "authorship_tag": "ABX9TyMeE/0oORZcIsOpDP/5rxle",
      "include_colab_link": true
    },
    "kernelspec": {
      "name": "python3",
      "display_name": "Python 3"
    },
    "language_info": {
      "name": "python"
    }
  },
  "cells": [
    {
      "cell_type": "markdown",
      "metadata": {
        "id": "view-in-github",
        "colab_type": "text"
      },
      "source": [
        "<a href=\"https://colab.research.google.com/github/ferraa1/AtividadesPython/blob/main/PythonExemplo02.ipynb\" target=\"_parent\"><img src=\"https://colab.research.google.com/assets/colab-badge.svg\" alt=\"Open In Colab\"/></a>"
      ]
    },
    {
      "cell_type": "markdown",
      "source": [
        "# Condicional If"
      ],
      "metadata": {
        "id": "G_5sds5bhdRT"
      }
    },
    {
      "cell_type": "code",
      "execution_count": null,
      "metadata": {
        "colab": {
          "base_uri": "https://localhost:8080/"
        },
        "id": "ub3hUe00dUUe",
        "outputId": "793b48cb-c8e2-46ce-bd79-534dce8b9eb7"
      },
      "outputs": [
        {
          "output_type": "stream",
          "name": "stdout",
          "text": [
            "Python funciona!\n"
          ]
        }
      ],
      "source": [
        "# Condicional If\n",
        "if 5 > 2:\n",
        "  print(\"Python funciona!\")"
      ]
    },
    {
      "cell_type": "code",
      "source": [
        "# Statement If...Else\n",
        "if 5 < 2:\n",
        "  print(\"Python funciona!\")\n",
        "else:\n",
        "  print(\"Algo está errado!\")"
      ],
      "metadata": {
        "colab": {
          "base_uri": "https://localhost:8080/"
        },
        "id": "fS4OzZMBepUh",
        "outputId": "96803465-fbe2-4563-d135-ad5889eb4916"
      },
      "execution_count": null,
      "outputs": [
        {
          "output_type": "stream",
          "name": "stdout",
          "text": [
            "Algo está errado!\n"
          ]
        }
      ]
    },
    {
      "cell_type": "code",
      "source": [
        "if 5 == 5:\n",
        "  print(\"Testando Python!\")"
      ],
      "metadata": {
        "colab": {
          "base_uri": "https://localhost:8080/"
        },
        "id": "X-xPnLWGe6PW",
        "outputId": "7a7f4fac-28c4-4664-ee9d-689025560f61"
      },
      "execution_count": null,
      "outputs": [
        {
          "output_type": "stream",
          "name": "stdout",
          "text": [
            "Testando Python!\n"
          ]
        }
      ]
    },
    {
      "cell_type": "code",
      "source": [
        "if True:\n",
        "    print(\"Parece que Python funciona!\")"
      ],
      "metadata": {
        "colab": {
          "base_uri": "https://localhost:8080/"
        },
        "id": "T08KZzFLhLF5",
        "outputId": "7adcfe09-4c68-4957-e76c-bc3bd1a674bf"
      },
      "execution_count": null,
      "outputs": [
        {
          "output_type": "stream",
          "name": "stdout",
          "text": [
            "Parece que Python funciona!\n"
          ]
        }
      ]
    },
    {
      "cell_type": "code",
      "source": [
        "# Atenção com a sintaxe\n",
        "if 4 > 3:\n",
        "    print(\"Tudo funciona!\")"
      ],
      "metadata": {
        "colab": {
          "base_uri": "https://localhost:8080/"
        },
        "id": "pyRpt0YyhTzD",
        "outputId": "46a09d15-8038-485a-d420-c083c289b461"
      },
      "execution_count": null,
      "outputs": [
        {
          "output_type": "stream",
          "name": "stdout",
          "text": [
            "Tudo funciona!\n"
          ]
        }
      ]
    },
    {
      "cell_type": "code",
      "source": [
        "# Atenção com a sintaxe\n",
        "if 4 > 3:\n",
        "    print(\"Tudo funciona!\")"
      ],
      "metadata": {
        "colab": {
          "base_uri": "https://localhost:8080/"
        },
        "id": "O4ERAUNIhWxB",
        "outputId": "cceffea2-90db-4ee2-c2b9-0c24bf4173d3"
      },
      "execution_count": null,
      "outputs": [
        {
          "output_type": "stream",
          "name": "stdout",
          "text": [
            "Tudo funciona!\n"
          ]
        }
      ]
    },
    {
      "cell_type": "markdown",
      "metadata": {
        "id": "N1nBKyf-hCbx"
      },
      "source": [
        "# Condicionais Aninhados"
      ]
    },
    {
      "cell_type": "code",
      "execution_count": null,
      "metadata": {
        "id": "Jw1zdCpghCby",
        "outputId": "6702a385-4b5e-4b8e-cd57-6968b1376ed4",
        "colab": {
          "base_uri": "https://localhost:8080/"
        }
      },
      "outputs": [
        {
          "output_type": "stream",
          "name": "stdout",
          "text": [
            "Você pode dirigir!\n"
          ]
        }
      ],
      "source": [
        "idade = 18\n",
        "if idade > 17:\n",
        "    print(\"Você pode dirigir!\")"
      ]
    },
    {
      "cell_type": "code",
      "execution_count": null,
      "metadata": {
        "id": "p2BhA7PuhCb0",
        "outputId": "9b659b3d-8839-4e17-a00e-dbd34f63f316",
        "colab": {
          "base_uri": "https://localhost:8080/"
        }
      },
      "outputs": [
        {
          "output_type": "stream",
          "name": "stdout",
          "text": [
            "Ok Bob, você está autorizado a entrar!\n"
          ]
        }
      ],
      "source": [
        "Nome = \"Bob\"\n",
        "if idade > 13:\n",
        "    if Nome == \"Bob\":\n",
        "        print(\"Ok Bob, você está autorizado a entrar!\")\n",
        "    else:\n",
        "        print(\"Desculpe, mas você não pode entrar!\")"
      ]
    },
    {
      "cell_type": "code",
      "execution_count": null,
      "metadata": {
        "id": "7of75Mj0hCb1",
        "outputId": "da98735d-669b-4374-aac5-ba4301d401c3",
        "colab": {
          "base_uri": "https://localhost:8080/"
        }
      },
      "outputs": [
        {
          "output_type": "stream",
          "name": "stdout",
          "text": [
            "Ok Bob, você está autorizado a entrar!\n"
          ]
        }
      ],
      "source": [
        "idade = 13\n",
        "Nome = \"Bob\"\n",
        "if idade >= 13 and Nome == \"Bob\":\n",
        "    print(\"Ok Bob, você está autorizado a entrar!\")"
      ]
    },
    {
      "cell_type": "code",
      "execution_count": null,
      "metadata": {
        "id": "uErj5SbChCb2",
        "outputId": "04d151a4-5013-47ef-b90f-5c6af9383ec6",
        "colab": {
          "base_uri": "https://localhost:8080/"
        }
      },
      "outputs": [
        {
          "output_type": "stream",
          "name": "stdout",
          "text": [
            "Ok Bob, você está autorizado a entrar!\n"
          ]
        }
      ],
      "source": [
        "idade = 12\n",
        "Nome = \"Bob\"\n",
        "if (idade >= 13) or (Nome == \"Bob\"):\n",
        "    print(\"Ok Bob, você está autorizado a entrar!\")"
      ]
    },
    {
      "cell_type": "markdown",
      "metadata": {
        "id": "SycpZvyghCb3"
      },
      "source": [
        "# Elif"
      ]
    },
    {
      "cell_type": "code",
      "execution_count": null,
      "metadata": {
        "id": "6jpsNLMVhCb4",
        "outputId": "5acd7857-42ca-4b74-d79d-3a2e8b188e79",
        "colab": {
          "base_uri": "https://localhost:8080/"
        }
      },
      "outputs": [
        {
          "output_type": "stream",
          "name": "stdout",
          "text": [
            "Hoje vai chover!\n"
          ]
        }
      ],
      "source": [
        "dia = \"Terça\"\n",
        "if dia == \"Segunda\":\n",
        "    print(\"Hoje fará sol!\")\n",
        "else:\n",
        "    print(\"Hoje vai chover!\")"
      ]
    },
    {
      "cell_type": "code",
      "execution_count": null,
      "metadata": {
        "id": "kypqI9xohCb5",
        "outputId": "75248ce4-315b-462e-ed79-a7cc4f638d54",
        "colab": {
          "base_uri": "https://localhost:8080/"
        }
      },
      "outputs": [
        {
          "output_type": "stream",
          "name": "stdout",
          "text": [
            "Hoje vai chover!\n"
          ]
        }
      ],
      "source": [
        "if dia == \"Segunda\":\n",
        "    print(\"Hoje fará sol!\")\n",
        "elif dia == \"Terça\":\n",
        "    print(\"Hoje vai chover!\")\n",
        "else:\n",
        "    print(\"Sem previsão do tempo para o dia selecionado\")"
      ]
    },
    {
      "cell_type": "markdown",
      "metadata": {
        "id": "4smwyDgfhCb5"
      },
      "source": [
        "# Operadores Lógicos"
      ]
    },
    {
      "cell_type": "code",
      "execution_count": null,
      "metadata": {
        "id": "Zr1NskChhCb6",
        "outputId": "be81dd0c-7426-49fd-edd3-38753df621e3",
        "colab": {
          "base_uri": "https://localhost:8080/"
        }
      },
      "outputs": [
        {
          "output_type": "stream",
          "name": "stdout",
          "text": [
            "Você pode dirigir!\n"
          ]
        }
      ],
      "source": [
        "idade = 18\n",
        "nome = \"Bob\"\n",
        "if idade > 17:\n",
        "    print(\"Você pode dirigir!\")"
      ]
    },
    {
      "cell_type": "code",
      "execution_count": null,
      "metadata": {
        "id": "Ut3O0rm2hCb7",
        "outputId": "956baf01-4334-4087-ae7c-6fbc0e50932a",
        "colab": {
          "base_uri": "https://localhost:8080/"
        }
      },
      "outputs": [
        {
          "output_type": "stream",
          "name": "stdout",
          "text": [
            "Autorizado!\n"
          ]
        }
      ],
      "source": [
        "idade = 18\n",
        "if idade > 17 and nome == \"Bob\":\n",
        "    print(\"Autorizado!\")"
      ]
    },
    {
      "cell_type": "code",
      "execution_count": null,
      "metadata": {
        "id": "J_3NFk4FhCb7",
        "outputId": "7d78861e-0b90-4434-fd40-6face7c60bee",
        "colab": {
          "base_uri": "https://localhost:8080/"
        }
      },
      "outputs": [
        {
          "output_type": "stream",
          "name": "stdout",
          "text": [
            "Digite o nome da disciplina: Geografia\n",
            "Digite a nota final (entre 0 e 100): 70\n",
            "Você foi aprovado!\n"
          ]
        }
      ],
      "source": [
        "# Usando mais de uma condição na cláusula if \n",
        "\n",
        "disciplina = input('Digite o nome da disciplina: ')\n",
        "nota_final = input('Digite a nota final (entre 0 e 100): ')\n",
        "\n",
        "if disciplina == 'Geografia' and nota_final >= '70':\n",
        "    print('Você foi aprovado!')\n",
        "else:\n",
        "    print('Lamento, acho que você precisa estudar mais!')"
      ]
    },
    {
      "cell_type": "code",
      "execution_count": null,
      "metadata": {
        "id": "I1uVNa6jhCb7",
        "outputId": "2c4f103c-77f2-4f66-c89f-ba37d50e1633",
        "colab": {
          "base_uri": "https://localhost:8080/"
        }
      },
      "outputs": [
        {
          "output_type": "stream",
          "name": "stdout",
          "text": [
            "Digite o nome da disciplina: Geografia\n",
            "Digite a nota final (entre 0 e 100): 70\n",
            "Digite o semestre (1 a 4): 2\n",
            "Você foi aprovado em Geografia com média final '70'!\n"
          ]
        }
      ],
      "source": [
        "# Usando mais de uma condição na cláusula if e introduzindo Placeholders\n",
        "\n",
        "disciplina = input('Digite o nome da disciplina: ')\n",
        "nota_final = input('Digite a nota final (entre 0 e 100): ')\n",
        "semestre = int(input('Digite o semestre (1 a 4): '))\n",
        "\n",
        "if disciplina == 'Geografia' and nota_final >= '50' and int(semestre) != 1:\n",
        "    print('Você foi aprovado em %s com média final %r!' %(disciplina, nota_final))\n",
        "else:\n",
        "    print('Lamento, acho que você precisa estudar mais!')"
      ]
    }
  ]
}