{
  "nbformat": 4,
  "nbformat_minor": 0,
  "metadata": {
    "colab": {
      "provenance": [],
      "authorship_tag": "ABX9TyMO3UwUcHSK/gCDHds4JJMQ",
      "include_colab_link": true
    },
    "kernelspec": {
      "name": "python3",
      "display_name": "Python 3"
    },
    "language_info": {
      "name": "python"
    }
  },
  "cells": [
    {
      "cell_type": "markdown",
      "metadata": {
        "id": "view-in-github",
        "colab_type": "text"
      },
      "source": [
        "<a href=\"https://colab.research.google.com/github/ferraa1/AtividadesPython/blob/main/PythonExercicio05.ipynb\" target=\"_parent\"><img src=\"https://colab.research.google.com/assets/colab-badge.svg\" alt=\"Open In Colab\"/></a>"
      ]
    },
    {
      "cell_type": "code",
      "execution_count": null,
      "metadata": {
        "id": "JKWKFF8mk2V1"
      },
      "outputs": [],
      "source": [
        "#RECURSIVIDADE\n",
        "def doRep(x,n):\n",
        "  y = []\n",
        "  if n == 0:\n",
        "    return[]\n",
        "  else:\n",
        "    y = doRep(x,n-1)\n",
        "    print(y)\n",
        "    y.append(x)\n",
        "    return y"
      ]
    }
  ]
}