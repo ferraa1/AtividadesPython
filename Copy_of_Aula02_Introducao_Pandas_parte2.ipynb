{
  "cells": [
    {
      "cell_type": "markdown",
      "metadata": {
        "id": "view-in-github",
        "colab_type": "text"
      },
      "source": [
        "<a href=\"https://colab.research.google.com/github/ferraa1/AtividadesPython/blob/main/Copy_of_Aula02_Introducao_Pandas_parte2.ipynb\" target=\"_parent\"><img src=\"https://colab.research.google.com/assets/colab-badge.svg\" alt=\"Open In Colab\"/></a>"
      ]
    },
    {
      "cell_type": "markdown",
      "id": "01b3d1b4",
      "metadata": {
        "id": "01b3d1b4"
      },
      "source": [
        "## Concatenar DataFrames"
      ]
    },
    {
      "cell_type": "markdown",
      "id": "02f3e699",
      "metadata": {
        "id": "02f3e699"
      },
      "source": [
        "Às vezes, um conjunto de dados é dividido em várias tabelas. Por exemplo, os dados geralmente são divididos em vários arquivos CSV para que cada download seja menor."
      ]
    },
    {
      "cell_type": "markdown",
      "id": "1a4ee9fc",
      "metadata": {
        "id": "1a4ee9fc"
      },
      "source": [
        "Quando precisamos reconstruir um único DataFrame a partir de vários DataFrames menores, podemos usar o método pd.concat([df1, df2, df3, ...]). Este método só funciona se todas as colunas forem iguais em todos os DataFrames."
      ]
    },
    {
      "cell_type": "code",
      "execution_count": null,
      "id": "be3e9120",
      "metadata": {
        "id": "be3e9120"
      },
      "outputs": [],
      "source": [
        "import pandas as pd"
      ]
    },
    {
      "cell_type": "code",
      "execution_count": null,
      "id": "e0d2dff5",
      "metadata": {
        "id": "e0d2dff5"
      },
      "outputs": [],
      "source": [
        "df1 = pd.DataFrame([\n",
        "  ['Daniel Soares','daniel.soares@ifc.edu.br'],\n",
        "  ['Juliano Brignoli','juliano.brignoli@ifc.edu.br'],\n",
        "  ['André Stein','andre.stein@ifc.edu.br']\n",
        "],\n",
        "columns=['Nome', 'Email'])"
      ]
    },
    {
      "cell_type": "code",
      "execution_count": null,
      "id": "9486855c",
      "metadata": {
        "id": "9486855c"
      },
      "outputs": [],
      "source": [
        "df2 = pd.DataFrame([\n",
        "  ['Cristhian Heck','cristhian.heck@ifc.edu.br'],\n",
        "  ['Rodrigo Curvello','rodrigo.curvello@ifc.edu.br'],\n",
        "  ['Fabio Alexandrini','fabio.alexandrini@ifc.edu.br']  \n",
        "],\n",
        "columns=['Nome', 'Email'])"
      ]
    },
    {
      "cell_type": "code",
      "execution_count": null,
      "id": "52dfbff9",
      "metadata": {
        "id": "52dfbff9"
      },
      "outputs": [],
      "source": [
        "professores = pd.concat([df1,df2])"
      ]
    },
    {
      "cell_type": "code",
      "execution_count": null,
      "id": "0d00f6a2",
      "metadata": {
        "id": "0d00f6a2"
      },
      "outputs": [],
      "source": [
        "#Ordenando DataFrame pela coluna 'Nome'\n",
        "professores.sort_values(by=\"Nome\")"
      ]
    },
    {
      "cell_type": "markdown",
      "id": "4c19a100",
      "metadata": {
        "id": "4c19a100"
      },
      "source": [
        "### Juntando vários arquivos em único DataFrame"
      ]
    },
    {
      "cell_type": "code",
      "execution_count": null,
      "id": "805f9396",
      "metadata": {
        "id": "805f9396"
      },
      "outputs": [],
      "source": [
        "import glob\n",
        " \n",
        "arquivos = glob.glob(\"arquivo*.csv\")\n",
        "\n",
        "lista_dfs = []\n",
        "for nomeArquivo in arquivos:\n",
        "    dados = pd.read_csv(nomeArquivo)\n",
        "    lista_dfs.append(dados)\n",
        "\n",
        "novo_df = pd.concat(lista_dfs)\n",
        " \n",
        "print(novo_df)\n"
      ]
    },
    {
      "cell_type": "markdown",
      "id": "856fcbe6",
      "metadata": {
        "id": "856fcbe6"
      },
      "source": [
        "### Juntando dados de tabelas diferentes"
      ]
    },
    {
      "cell_type": "code",
      "execution_count": null,
      "id": "9f5ffd30",
      "metadata": {
        "id": "9f5ffd30"
      },
      "outputs": [],
      "source": [
        "clientes = pd.read_csv('clientes.csv')\n",
        "clientes.head()"
      ]
    },
    {
      "cell_type": "code",
      "execution_count": null,
      "id": "410b1325",
      "metadata": {
        "id": "410b1325"
      },
      "outputs": [],
      "source": [
        "produtos = pd.read_csv('produtos.csv')\n",
        "produtos.head()"
      ]
    },
    {
      "cell_type": "code",
      "execution_count": null,
      "id": "e2f98785",
      "metadata": {
        "id": "e2f98785"
      },
      "outputs": [],
      "source": [
        "pedidos = pd.read_csv('pedidos.csv')\n",
        "pedidos.head()"
      ]
    },
    {
      "cell_type": "markdown",
      "id": "8c0f2639",
      "metadata": {
        "id": "8c0f2639"
      },
      "source": [
        "O método .merge() procura por colunas que são comuns entre dois DataFrames e, em seguida, procura por linhas onde os valores dessas colunas são os mesmos. Em seguida, combina as linhas correspondentes em uma única linha em uma nova tabela."
      ]
    },
    {
      "cell_type": "code",
      "execution_count": null,
      "id": "b6ddace3",
      "metadata": {
        "id": "b6ddace3"
      },
      "outputs": [],
      "source": [
        "novo_df = pd.merge(pedidos,clientes)\n",
        "novo_df"
      ]
    },
    {
      "cell_type": "code",
      "execution_count": null,
      "id": "3bbf86ba",
      "metadata": {
        "id": "3bbf86ba"
      },
      "outputs": [],
      "source": [
        "novo_df = pedidos.merge(clientes)\n",
        "novo_df"
      ]
    },
    {
      "cell_type": "code",
      "execution_count": null,
      "id": "bc39fce6",
      "metadata": {
        "id": "bc39fce6"
      },
      "outputs": [],
      "source": [
        "novo_df = pedidos.merge(clientes).merge(produtos)\n",
        "novo_df"
      ]
    },
    {
      "cell_type": "markdown",
      "id": "928afcce",
      "metadata": {
        "id": "928afcce"
      },
      "source": [
        "### Mesclar DataFrames cujas colunas não correspondem"
      ]
    },
    {
      "cell_type": "code",
      "execution_count": null,
      "id": "ca592cd5",
      "metadata": {
        "id": "ca592cd5"
      },
      "outputs": [],
      "source": [
        "professores2 = pd.DataFrame([\n",
        "  ['Daniel Soares','212-345-6789'],\n",
        "  ['Juliano Brignoli','626-987-6543'],\n",
        "  ['André Stein','303-456-7891']\n",
        "],\n",
        "columns=['Nome', 'Telefone'])\n"
      ]
    },
    {
      "cell_type": "code",
      "execution_count": null,
      "id": "c42d3a54",
      "metadata": {
        "scrolled": true,
        "id": "c42d3a54"
      },
      "outputs": [],
      "source": [
        "professores.head()"
      ]
    },
    {
      "cell_type": "code",
      "execution_count": null,
      "id": "1ee57eb5",
      "metadata": {
        "id": "1ee57eb5"
      },
      "outputs": [],
      "source": [
        "professores2.head()"
      ]
    },
    {
      "cell_type": "code",
      "execution_count": null,
      "id": "371cfea7",
      "metadata": {
        "id": "371cfea7"
      },
      "outputs": [],
      "source": [
        "#Linhas que não correspondem não são incluídas\n",
        "novo_df = professores.merge(professores2)\n",
        "novo_df"
      ]
    },
    {
      "cell_type": "code",
      "execution_count": null,
      "id": "f7515546",
      "metadata": {
        "id": "f7515546"
      },
      "outputs": [],
      "source": [
        "novo_df = professores.merge(professores2, how='outer')\n",
        "novo_df"
      ]
    },
    {
      "cell_type": "markdown",
      "id": "f1bcc20a",
      "metadata": {
        "id": "f1bcc20a"
      },
      "source": [
        "## Limpando os dados"
      ]
    },
    {
      "cell_type": "markdown",
      "id": "65c932a4",
      "metadata": {
        "id": "65c932a4"
      },
      "source": [
        "Uma grande parte da ciência de dados envolve adquirir dados brutos e colocá-los em um formulário pronto para análise. Alguns estimaram que os cientistas de dados gastam 80% de seu tempo limpando e manipulando dados, e apenas 20% de seu tempo realmente analisando ou construindo modelos a partir deles."
      ]
    },
    {
      "cell_type": "markdown",
      "id": "05fb5290",
      "metadata": {
        "id": "05fb5290"
      },
      "source": [
        "A primeira etapa para diagnosticar se um conjunto de dados está organizado ou não é usar funções do pandas para explorar e investigar o conjunto de dados. Algumas das mais úteis são:"
      ]
    },
    {
      "cell_type": "markdown",
      "id": "5aa110b9",
      "metadata": {
        "id": "5aa110b9"
      },
      "source": [
        ".head() - exibe as primeiras 5 linhas da tabela"
      ]
    },
    {
      "cell_type": "markdown",
      "id": "004607e8",
      "metadata": {
        "id": "004607e8"
      },
      "source": [
        ".info() - exibir um resumo da tabela"
      ]
    },
    {
      "cell_type": "markdown",
      "id": "55dfb664",
      "metadata": {
        "id": "55dfb664"
      },
      "source": [
        ".describe() - exibe as estatísticas resumidas da tabela"
      ]
    },
    {
      "cell_type": "markdown",
      "id": "a1d3a863",
      "metadata": {
        "id": "a1d3a863"
      },
      "source": [
        ".columns - exibe os nomes das colunas da tabela"
      ]
    },
    {
      "cell_type": "markdown",
      "id": "9f93f3ad",
      "metadata": {
        "id": "9f93f3ad"
      },
      "source": [
        ".value_counts() - exibe os valores distintos de uma coluna"
      ]
    },
    {
      "cell_type": "markdown",
      "id": "ca2e85fb",
      "metadata": {
        "id": "ca2e85fb"
      },
      "source": [
        "#### Lidando com dados duplicados"
      ]
    },
    {
      "cell_type": "code",
      "execution_count": null,
      "id": "8466b3bc",
      "metadata": {
        "id": "8466b3bc"
      },
      "outputs": [],
      "source": [
        "frutas = pd.DataFrame([\n",
        "  ['banana','R$ 5','105'],\n",
        "  ['maçã','R$ 3','95'],\n",
        "  ['maçã','R$ 3','95'],\n",
        "  ['pêssego','R$ 4','55'],\n",
        "  ['pêssego','R$ 3','55'],   \n",
        "],\n",
        "columns=['Item', 'Preço','Calorias'])\n",
        "frutas"
      ]
    },
    {
      "cell_type": "code",
      "execution_count": null,
      "id": "b0edeb6d",
      "metadata": {
        "id": "b0edeb6d"
      },
      "outputs": [],
      "source": [
        "frutas.duplicated()"
      ]
    },
    {
      "cell_type": "code",
      "execution_count": null,
      "id": "842d3e12",
      "metadata": {
        "id": "842d3e12"
      },
      "outputs": [],
      "source": [
        "frutas.drop_duplicates()"
      ]
    },
    {
      "cell_type": "code",
      "execution_count": null,
      "id": "cfc8c38a",
      "metadata": {
        "id": "cfc8c38a"
      },
      "outputs": [],
      "source": [
        "#Removendo linhas duplicadas na coluna 'Item'\n",
        "frutas.drop_duplicates(subset=['Item'])"
      ]
    },
    {
      "cell_type": "markdown",
      "id": "0630606e",
      "metadata": {
        "id": "0630606e"
      },
      "source": [
        "#### Divisão por caractere"
      ]
    },
    {
      "cell_type": "markdown",
      "id": "3b5d4a49",
      "metadata": {
        "id": "3b5d4a49"
      },
      "source": [
        "Ao tentar obter dados limpos, queremos garantir que cada coluna represente um tipo de medição. Muitas vezes, várias medições são registradas na mesma coluna e queremos separá-las para que possamos fazer análises individuais em cada variável."
      ]
    },
    {
      "cell_type": "code",
      "execution_count": null,
      "id": "cbc8fb67",
      "metadata": {
        "id": "cbc8fb67"
      },
      "outputs": [],
      "source": [
        "clientes"
      ]
    },
    {
      "cell_type": "code",
      "execution_count": null,
      "id": "aa7e1a88",
      "metadata": {
        "id": "aa7e1a88"
      },
      "outputs": [],
      "source": [
        "nomes = clientes.customer_name.str.split(\" \")\n",
        "clientes['Primeiro Nome'] = nomes.str.get(0)\n",
        "clientes['Sobrenome'] = nomes.str.get(1)\n",
        "clientes"
      ]
    },
    {
      "cell_type": "markdown",
      "id": "06536022",
      "metadata": {
        "id": "06536022"
      },
      "source": [
        "#### Verificando os tipos"
      ]
    },
    {
      "cell_type": "code",
      "execution_count": null,
      "id": "052aac92",
      "metadata": {
        "id": "052aac92"
      },
      "outputs": [],
      "source": [
        "clientes.dtypes"
      ]
    },
    {
      "cell_type": "markdown",
      "id": "febdc3f6",
      "metadata": {
        "id": "febdc3f6"
      },
      "source": [
        "#### Valores Ausentes"
      ]
    },
    {
      "cell_type": "markdown",
      "id": "a90a88d4",
      "metadata": {
        "id": "a90a88d4"
      },
      "source": [
        "Muitas vezes temos dados com elementos ausentes, como resultado de um problema com o processo de coleta de dados ou erros na forma como os dados foram armazenados. Os elementos ausentes normalmente aparecem como NaN (ou Not a Number)"
      ]
    },
    {
      "cell_type": "code",
      "execution_count": null,
      "id": "6daf6302",
      "metadata": {
        "id": "6daf6302"
      },
      "outputs": [],
      "source": [
        "olimpiadas = pd.read_csv('olimpíadas.csv')\n",
        "olimpiadas.info()"
      ]
    },
    {
      "cell_type": "code",
      "execution_count": null,
      "id": "f07f9bdb",
      "metadata": {
        "id": "f07f9bdb"
      },
      "outputs": [],
      "source": [
        "#Excluindo registros com dados ausentes\n",
        "novo_df = olimpiadas.dropna()\n",
        "novo_df.info()"
      ]
    },
    {
      "cell_type": "code",
      "execution_count": null,
      "id": "a606f6c5",
      "metadata": {
        "id": "a606f6c5"
      },
      "outputs": [],
      "source": [
        "# Excluindo registros com dados ausentes somente na coluna 'medalha'\n",
        "novo_df = olimpiadas.dropna(subset=['medalha'])\n",
        "novo_df"
      ]
    },
    {
      "cell_type": "code",
      "execution_count": null,
      "id": "82d8d0c2",
      "metadata": {
        "id": "82d8d0c2"
      },
      "outputs": [],
      "source": [
        "#Substituindo valores NaN por outro valor\n",
        "df = olimpiadas.fillna(value={'medalha':'Sem Medalha'})\n",
        "df.head(10)"
      ]
    },
    {
      "cell_type": "markdown",
      "id": "25faa833",
      "metadata": {
        "id": "25faa833"
      },
      "source": [
        "# FIM"
      ]
    }
  ],
  "metadata": {
    "kernelspec": {
      "display_name": "Python 3",
      "language": "python",
      "name": "python3"
    },
    "language_info": {
      "codemirror_mode": {
        "name": "ipython",
        "version": 3
      },
      "file_extension": ".py",
      "mimetype": "text/x-python",
      "name": "python",
      "nbconvert_exporter": "python",
      "pygments_lexer": "ipython3",
      "version": "3.8.8"
    },
    "colab": {
      "provenance": [],
      "include_colab_link": true
    }
  },
  "nbformat": 4,
  "nbformat_minor": 5
}