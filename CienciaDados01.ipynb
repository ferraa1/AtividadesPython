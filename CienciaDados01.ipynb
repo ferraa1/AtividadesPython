{
  "nbformat": 4,
  "nbformat_minor": 0,
  "metadata": {
    "colab": {
      "provenance": [],
      "authorship_tag": "ABX9TyNznyZ3trlbeHhOAgie6Mbq",
      "include_colab_link": true
    },
    "kernelspec": {
      "name": "python3",
      "display_name": "Python 3"
    },
    "language_info": {
      "name": "python"
    }
  },
  "cells": [
    {
      "cell_type": "markdown",
      "metadata": {
        "id": "view-in-github",
        "colab_type": "text"
      },
      "source": [
        "<a href=\"https://colab.research.google.com/github/ferraa1/AtividadesPython/blob/main/CienciaDados01.ipynb\" target=\"_parent\"><img src=\"https://colab.research.google.com/assets/colab-badge.svg\" alt=\"Open In Colab\"/></a>"
      ]
    },
    {
      "cell_type": "code",
      "execution_count": null,
      "metadata": {
        "colab": {
          "base_uri": "https://localhost:8080/"
        },
        "id": "QwPGa1P5OkD6",
        "outputId": "bae1e0fd-f8f3-4f66-8a39-b374bbedcfdb"
      },
      "outputs": [
        {
          "output_type": "stream",
          "name": "stdout",
          "text": [
            "  CIDADE COMBUSTIVEL  POSTO1  POSTO2  POSTO3  POSTO4  POSTO5\n",
            "0      A    gasolina    7.50    6.90    7.85    6.40    7.20\n",
            "1      A      etanol    4.25    4.00    3.80    4.95    4.80\n",
            "2      A      diesel    6.45    6.50    6.90    7.15    7.05\n",
            "3      B    gasolina    9.05    7.30    6.75    7.05    7.00\n",
            "4      B      etanol    4.05    3.98    4.05    4.05    3.95\n",
            "5      B      diesel    6.50    6.55    4.49    6.89    7.10\n",
            "6      C    gasolina    6.85    7.25    7.29    6.99    7.15\n",
            "7      C      etanol    3.99    3.98    4.15    4.05    3.99\n",
            "8      C      diesel    7.65    6.05    6.10    7.55    5.99\n",
            "   MEDIA  VARIANCIA        DP\n",
            "0  7.170   0.247600  0.497594\n",
            "1  4.360   0.199400  0.446542\n",
            "2  6.810   0.081400  0.285307\n",
            "3  7.430   0.686600  0.828613\n",
            "4  4.016   0.001824  0.042708\n",
            "5  6.306   0.873304  0.934507\n",
            "6  7.106   0.027104  0.164633\n",
            "7  4.032   0.004096  0.064000\n",
            "8  6.668   0.581296  0.762428\n",
            "O combustível com maior discrepância de preço é: diesel , na cidade: B , com desvio padrão: 0.9345073568463759\n",
            "O combustível com menor dispersão de preço é: etanol , na cidade: B , com desvio padrão: 0.04270831300812511\n"
          ]
        }
      ],
      "source": [
        "import pandas\n",
        "import numpy\n",
        "\n",
        "arquivo = pandas.read_csv('COMBUSTIVEIS.csv')\n",
        "print(arquivo)\n",
        "\n",
        "posto1 = list(arquivo['POSTO1'])\n",
        "posto2 = list(arquivo['POSTO2'])\n",
        "posto3 = list(arquivo['POSTO3'])\n",
        "posto4 = list(arquivo['POSTO4'])\n",
        "posto5 = list(arquivo['POSTO5'])\n",
        "medias = []\n",
        "variancias = []\n",
        "dps = []\n",
        "for x in range(9):\n",
        "  medias.append(numpy.mean([posto1[x],posto2[x],posto3[x],posto4[x],posto5[x]]))\n",
        "  variancias.append(numpy.var([posto1[x],posto2[x],posto3[x],posto4[x],posto5[x]]))\n",
        "  dps.append(numpy.std([posto1[x],posto2[x],posto3[x],posto4[x],posto5[x]]))\n",
        "result = pandas.DataFrame()\n",
        "result['MEDIA'] = medias\n",
        "result['VARIANCIA'] = variancias\n",
        "result['DP'] = dps\n",
        "print(result)\n",
        "\n",
        "cidades = list(arquivo['CIDADE'])\n",
        "combustiveis = list(arquivo['COMBUSTIVEL'])\n",
        "\n",
        "maiorCidade = \"\"\n",
        "maiorCombustivel = \"\"\n",
        "maiorDP = dps[0]\n",
        "for x in range(9):\n",
        "  if dps[x] > maiorDP:\n",
        "    maiorCidade = cidades[x]\n",
        "    maiorCombustivel = combustiveis[x]\n",
        "    maiorDP = dps[x]\n",
        "print(\"O combustível com maior discrepância de preço é:\", maiorCombustivel, \", na cidade:\", maiorCidade, \", com desvio padrão:\", maiorDP)\n",
        "\n",
        "menorCidade = \"\"\n",
        "menorCombustivel = \"\"\n",
        "menorDP = dps[0]\n",
        "for x in range(9):\n",
        "  if dps[x] < menorDP:\n",
        "    menorCidade = cidades[x]\n",
        "    menorCombustivel = combustiveis[x]\n",
        "    menorDP = dps[x]\n",
        "print(\"O combustível com menor dispersão de preço é:\", menorCombustivel, \", na cidade:\", menorCidade, \", com desvio padrão:\", menorDP)"
      ]
    }
  ]
}